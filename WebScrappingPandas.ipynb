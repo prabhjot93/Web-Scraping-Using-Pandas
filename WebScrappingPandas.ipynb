{
 "cells": [
  {
   "cell_type": "code",
   "execution_count": 90,
   "id": "c3c7a2f8-9ed5-40b7-9cd3-1289c6f6ce9d",
   "metadata": {},
   "outputs": [
    {
     "data": {
      "text/html": [
       "<div>\n",
       "<style scoped>\n",
       "    .dataframe tbody tr th:only-of-type {\n",
       "        vertical-align: middle;\n",
       "    }\n",
       "\n",
       "    .dataframe tbody tr th {\n",
       "        vertical-align: top;\n",
       "    }\n",
       "\n",
       "    .dataframe thead th {\n",
       "        text-align: right;\n",
       "    }\n",
       "</style>\n",
       "<table border=\"1\" class=\"dataframe\">\n",
       "  <thead>\n",
       "    <tr style=\"text-align: right;\">\n",
       "      <th></th>\n",
       "      <th>No. overall</th>\n",
       "      <th>No. in season</th>\n",
       "      <th>Title</th>\n",
       "      <th>Directed by</th>\n",
       "      <th>Written by</th>\n",
       "      <th>Original air date [20]</th>\n",
       "      <th>U.S. viewers (millions)</th>\n",
       "    </tr>\n",
       "  </thead>\n",
       "  <tbody>\n",
       "    <tr>\n",
       "      <th>0</th>\n",
       "      <td>1</td>\n",
       "      <td>1</td>\n",
       "      <td>\"Winter Is Coming\"</td>\n",
       "      <td>Tim Van Patten</td>\n",
       "      <td>David Benioff &amp; D. B. Weiss</td>\n",
       "      <td>April 17, 2011</td>\n",
       "      <td>2.22[21]</td>\n",
       "    </tr>\n",
       "    <tr>\n",
       "      <th>1</th>\n",
       "      <td>2</td>\n",
       "      <td>2</td>\n",
       "      <td>\"The Kingsroad\"</td>\n",
       "      <td>Tim Van Patten</td>\n",
       "      <td>David Benioff &amp; D. B. Weiss</td>\n",
       "      <td>April 24, 2011</td>\n",
       "      <td>2.20[22]</td>\n",
       "    </tr>\n",
       "    <tr>\n",
       "      <th>2</th>\n",
       "      <td>3</td>\n",
       "      <td>3</td>\n",
       "      <td>\"Lord Snow\"</td>\n",
       "      <td>Brian Kirk</td>\n",
       "      <td>David Benioff &amp; D. B. Weiss</td>\n",
       "      <td>May 1, 2011</td>\n",
       "      <td>2.44[23]</td>\n",
       "    </tr>\n",
       "    <tr>\n",
       "      <th>3</th>\n",
       "      <td>4</td>\n",
       "      <td>4</td>\n",
       "      <td>\"Cripples, Bastards, and Broken Things\"</td>\n",
       "      <td>Brian Kirk</td>\n",
       "      <td>Bryan Cogman</td>\n",
       "      <td>May 8, 2011</td>\n",
       "      <td>2.45[24]</td>\n",
       "    </tr>\n",
       "    <tr>\n",
       "      <th>4</th>\n",
       "      <td>5</td>\n",
       "      <td>5</td>\n",
       "      <td>\"The Wolf and the Lion\"</td>\n",
       "      <td>Brian Kirk</td>\n",
       "      <td>David Benioff &amp; D. B. Weiss</td>\n",
       "      <td>May 15, 2011</td>\n",
       "      <td>2.58[25]</td>\n",
       "    </tr>\n",
       "    <tr>\n",
       "      <th>5</th>\n",
       "      <td>6</td>\n",
       "      <td>6</td>\n",
       "      <td>\"A Golden Crown\"</td>\n",
       "      <td>Daniel Minahan</td>\n",
       "      <td>Story by : David Benioff &amp; D. B. Weiss Telepla...</td>\n",
       "      <td>May 22, 2011</td>\n",
       "      <td>2.44[26]</td>\n",
       "    </tr>\n",
       "    <tr>\n",
       "      <th>6</th>\n",
       "      <td>7</td>\n",
       "      <td>7</td>\n",
       "      <td>\"You Win or You Die\"</td>\n",
       "      <td>Daniel Minahan</td>\n",
       "      <td>David Benioff &amp; D. B. Weiss</td>\n",
       "      <td>May 29, 2011</td>\n",
       "      <td>2.40[27]</td>\n",
       "    </tr>\n",
       "    <tr>\n",
       "      <th>7</th>\n",
       "      <td>8</td>\n",
       "      <td>8</td>\n",
       "      <td>\"The Pointy End\"</td>\n",
       "      <td>Daniel Minahan</td>\n",
       "      <td>George R. R. Martin</td>\n",
       "      <td>June 5, 2011</td>\n",
       "      <td>2.72[28]</td>\n",
       "    </tr>\n",
       "    <tr>\n",
       "      <th>8</th>\n",
       "      <td>9</td>\n",
       "      <td>9</td>\n",
       "      <td>\"Baelor\"</td>\n",
       "      <td>Alan Taylor</td>\n",
       "      <td>David Benioff &amp; D. B. Weiss</td>\n",
       "      <td>June 12, 2011</td>\n",
       "      <td>2.66[29]</td>\n",
       "    </tr>\n",
       "    <tr>\n",
       "      <th>9</th>\n",
       "      <td>10</td>\n",
       "      <td>10</td>\n",
       "      <td>\"Fire and Blood\"</td>\n",
       "      <td>Alan Taylor</td>\n",
       "      <td>David Benioff &amp; D. B. Weiss</td>\n",
       "      <td>June 19, 2011</td>\n",
       "      <td>3.04[30]</td>\n",
       "    </tr>\n",
       "  </tbody>\n",
       "</table>\n",
       "</div>"
      ],
      "text/plain": [
       "   No. overall  No. in season                                    Title  \\\n",
       "0            1              1                       \"Winter Is Coming\"   \n",
       "1            2              2                          \"The Kingsroad\"   \n",
       "2            3              3                              \"Lord Snow\"   \n",
       "3            4              4  \"Cripples, Bastards, and Broken Things\"   \n",
       "4            5              5                  \"The Wolf and the Lion\"   \n",
       "5            6              6                         \"A Golden Crown\"   \n",
       "6            7              7                     \"You Win or You Die\"   \n",
       "7            8              8                         \"The Pointy End\"   \n",
       "8            9              9                                 \"Baelor\"   \n",
       "9           10             10                         \"Fire and Blood\"   \n",
       "\n",
       "      Directed by                                         Written by  \\\n",
       "0  Tim Van Patten                        David Benioff & D. B. Weiss   \n",
       "1  Tim Van Patten                        David Benioff & D. B. Weiss   \n",
       "2      Brian Kirk                        David Benioff & D. B. Weiss   \n",
       "3      Brian Kirk                                       Bryan Cogman   \n",
       "4      Brian Kirk                        David Benioff & D. B. Weiss   \n",
       "5  Daniel Minahan  Story by : David Benioff & D. B. Weiss Telepla...   \n",
       "6  Daniel Minahan                        David Benioff & D. B. Weiss   \n",
       "7  Daniel Minahan                                George R. R. Martin   \n",
       "8     Alan Taylor                        David Benioff & D. B. Weiss   \n",
       "9     Alan Taylor                        David Benioff & D. B. Weiss   \n",
       "\n",
       "  Original air date [20] U.S. viewers (millions)  \n",
       "0         April 17, 2011                2.22[21]  \n",
       "1         April 24, 2011                2.20[22]  \n",
       "2            May 1, 2011                2.44[23]  \n",
       "3            May 8, 2011                2.45[24]  \n",
       "4           May 15, 2011                2.58[25]  \n",
       "5           May 22, 2011                2.44[26]  \n",
       "6           May 29, 2011                2.40[27]  \n",
       "7           June 5, 2011                2.72[28]  \n",
       "8          June 12, 2011                2.66[29]  \n",
       "9          June 19, 2011                3.04[30]  "
      ]
     },
     "execution_count": 90,
     "metadata": {},
     "output_type": "execute_result"
    }
   ],
   "source": [
    "import pandas as pd\n",
    "df=pd.read_html(\"https://en.wikipedia.org/wiki/List_of_Game_of_Thrones_episodes\")[1]\n",
    "df\n"
   ]
  },
  {
   "cell_type": "code",
   "execution_count": 10,
   "id": "57cc3ec7-e78c-48da-9545-459579df8c0e",
   "metadata": {},
   "outputs": [],
   "source": [
    "append_data=[]\n",
    "for i in range(1,9):\n",
    "    append_data.append(pd.read_html(\"https://en.wikipedia.org/wiki/List_of_Game_of_Thrones_episodes\")[i])\n"
   ]
  },
  {
   "cell_type": "code",
   "execution_count": 91,
   "id": "bb1ce177-71f6-4d23-a440-7c4bc4cb71bd",
   "metadata": {},
   "outputs": [
    {
     "data": {
      "text/plain": [
       "[   No. overall  No. in season                                    Title  \\\n",
       " 0            1              1                       \"Winter Is Coming\"   \n",
       " 1            2              2                          \"The Kingsroad\"   \n",
       " 2            3              3                              \"Lord Snow\"   \n",
       " 3            4              4  \"Cripples, Bastards, and Broken Things\"   \n",
       " 4            5              5                  \"The Wolf and the Lion\"   \n",
       " 5            6              6                         \"A Golden Crown\"   \n",
       " 6            7              7                     \"You Win or You Die\"   \n",
       " 7            8              8                         \"The Pointy End\"   \n",
       " 8            9              9                                 \"Baelor\"   \n",
       " 9           10             10                         \"Fire and Blood\"   \n",
       " \n",
       "       Directed by                                         Written by  \\\n",
       " 0  Tim Van Patten                        David Benioff & D. B. Weiss   \n",
       " 1  Tim Van Patten                        David Benioff & D. B. Weiss   \n",
       " 2      Brian Kirk                        David Benioff & D. B. Weiss   \n",
       " 3      Brian Kirk                                       Bryan Cogman   \n",
       " 4      Brian Kirk                        David Benioff & D. B. Weiss   \n",
       " 5  Daniel Minahan  Story by : David Benioff & D. B. Weiss Telepla...   \n",
       " 6  Daniel Minahan                        David Benioff & D. B. Weiss   \n",
       " 7  Daniel Minahan                                George R. R. Martin   \n",
       " 8     Alan Taylor                        David Benioff & D. B. Weiss   \n",
       " 9     Alan Taylor                        David Benioff & D. B. Weiss   \n",
       " \n",
       "   Original air date [20] U.S. viewers (millions)  \n",
       " 0         April 17, 2011                2.22[21]  \n",
       " 1         April 24, 2011                2.20[22]  \n",
       " 2            May 1, 2011                2.44[23]  \n",
       " 3            May 8, 2011                2.45[24]  \n",
       " 4           May 15, 2011                2.58[25]  \n",
       " 5           May 22, 2011                2.44[26]  \n",
       " 6           May 29, 2011                2.40[27]  \n",
       " 7           June 5, 2011                2.72[28]  \n",
       " 8          June 12, 2011                2.66[29]  \n",
       " 9          June 19, 2011                3.04[30]  ,\n",
       "    No. overall  No. in season                         Title     Directed by  \\\n",
       " 0           11              1         \"The North Remembers\"     Alan Taylor   \n",
       " 1           12              2             \"The Night Lands\"     Alan Taylor   \n",
       " 2           13              3  \"What Is Dead May Never Die\"   Alik Sakharov   \n",
       " 3           14              4             \"Garden of Bones\"  David Petrarca   \n",
       " 4           15              5      \"The Ghost of Harrenhal\"  David Petrarca   \n",
       " 5           16              6    \"The Old Gods and the New\"    David Nutter   \n",
       " 6           17              7         \"A Man Without Honor\"    David Nutter   \n",
       " 7           18              8    \"The Prince of Winterfell\"     Alan Taylor   \n",
       " 8           19              9                  \"Blackwater\"   Neil Marshall   \n",
       " 9           20             10             \"Valar Morghulis\"     Alan Taylor   \n",
       " \n",
       "                     Written by Original air date [20] U.S. viewers (millions)  \n",
       " 0  David Benioff & D. B. Weiss          April 1, 2012                3.86[31]  \n",
       " 1  David Benioff & D. B. Weiss          April 8, 2012                3.76[32]  \n",
       " 2                 Bryan Cogman         April 15, 2012                3.77[33]  \n",
       " 3               Vanessa Taylor         April 22, 2012                3.65[34]  \n",
       " 4  David Benioff & D. B. Weiss         April 29, 2012                3.90[35]  \n",
       " 5               Vanessa Taylor            May 6, 2012                3.88[36]  \n",
       " 6  David Benioff & D. B. Weiss           May 13, 2012                3.69[37]  \n",
       " 7  David Benioff & D. B. Weiss           May 20, 2012                3.86[38]  \n",
       " 8          George R. R. Martin           May 27, 2012                3.38[39]  \n",
       " 9  David Benioff & D. B. Weiss           June 3, 2012                4.20[40]  ,\n",
       "    No. overall  No. in season                           Title  \\\n",
       " 0           21              1                \"Valar Dohaeris\"   \n",
       " 1           22              2        \"Dark Wings, Dark Words\"   \n",
       " 2           23              3            \"Walk of Punishment\"   \n",
       " 3           24              4    \"And Now His Watch Is Ended\"   \n",
       " 4           25              5                \"Kissed by Fire\"   \n",
       " 5           26              6                     \"The Climb\"   \n",
       " 6           27              7  \"The Bear and the Maiden Fair\"   \n",
       " 7           28              8                   \"Second Sons\"   \n",
       " 8           29              9        \"The Rains of Castamere\"   \n",
       " 9           30             10                         \"Mhysa\"   \n",
       " \n",
       "          Directed by                   Written by Original air date [20]  \\\n",
       " 0     Daniel Minahan  David Benioff & D. B. Weiss         March 31, 2013   \n",
       " 1     Daniel Minahan               Vanessa Taylor          April 7, 2013   \n",
       " 2      David Benioff  David Benioff & D. B. Weiss         April 14, 2013   \n",
       " 3        Alex Graves  David Benioff & D. B. Weiss         April 21, 2013   \n",
       " 4        Alex Graves                 Bryan Cogman         April 28, 2013   \n",
       " 5      Alik Sakharov  David Benioff & D. B. Weiss            May 5, 2013   \n",
       " 6  Michelle MacLaren          George R. R. Martin           May 12, 2013   \n",
       " 7  Michelle MacLaren  David Benioff & D. B. Weiss           May 19, 2013   \n",
       " 8       David Nutter  David Benioff & D. B. Weiss           June 2, 2013   \n",
       " 9       David Nutter  David Benioff & D. B. Weiss           June 9, 2013   \n",
       " \n",
       "   U.S. viewers (millions)  \n",
       " 0                4.37[41]  \n",
       " 1                4.27[42]  \n",
       " 2                4.72[43]  \n",
       " 3                4.87[44]  \n",
       " 4                5.35[45]  \n",
       " 5                5.50[46]  \n",
       " 6                4.84[47]  \n",
       " 7                5.13[48]  \n",
       " 8                5.22[49]  \n",
       " 9                5.39[50]  ,\n",
       "    No. overall  No. in season                         Title  \\\n",
       " 0           31              1                  \"Two Swords\"   \n",
       " 1           32              2       \"The Lion and the Rose\"   \n",
       " 2           33              3           \"Breaker of Chains\"   \n",
       " 3           34              4                  \"Oathkeeper\"   \n",
       " 4           35              5           \"First of His Name\"   \n",
       " 5           36              6    \"The Laws of Gods and Men\"   \n",
       " 6           37              7                 \"Mockingbird\"   \n",
       " 7           38              8  \"The Mountain and the Viper\"   \n",
       " 8           39              9    \"The Watchers on the Wall\"   \n",
       " 9           40             10                \"The Children\"   \n",
       " \n",
       "          Directed by                   Written by Original air date [20]  \\\n",
       " 0        D. B. Weiss  David Benioff & D. B. Weiss          April 6, 2014   \n",
       " 1        Alex Graves          George R. R. Martin         April 13, 2014   \n",
       " 2        Alex Graves  David Benioff & D. B. Weiss         April 20, 2014   \n",
       " 3  Michelle MacLaren                 Bryan Cogman         April 27, 2014   \n",
       " 4  Michelle MacLaren  David Benioff & D. B. Weiss            May 4, 2014   \n",
       " 5      Alik Sakharov                 Bryan Cogman           May 11, 2014   \n",
       " 6      Alik Sakharov  David Benioff & D. B. Weiss           May 18, 2014   \n",
       " 7        Alex Graves  David Benioff & D. B. Weiss           June 1, 2014   \n",
       " 8      Neil Marshall  David Benioff & D. B. Weiss           June 8, 2014   \n",
       " 9        Alex Graves  David Benioff & D. B. Weiss          June 15, 2014   \n",
       " \n",
       "   U.S. viewers (millions)  \n",
       " 0                6.64[51]  \n",
       " 1                6.31[52]  \n",
       " 2                6.59[53]  \n",
       " 3                6.95[54]  \n",
       " 4                7.16[55]  \n",
       " 5                6.40[56]  \n",
       " 6                7.20[57]  \n",
       " 7                7.17[58]  \n",
       " 8                6.95[59]  \n",
       " 9                7.09[60]  ,\n",
       "    No. overall  No. in season                           Title  \\\n",
       " 0           41              1              \"The Wars to Come\"   \n",
       " 1           42              2  \"The House of Black and White\"   \n",
       " 2           43              3                  \"High Sparrow\"   \n",
       " 3           44              4             \"Sons of the Harpy\"   \n",
       " 4           45              5                  \"Kill the Boy\"   \n",
       " 5           46              6     \"Unbowed, Unbent, Unbroken\"   \n",
       " 6           47              7                      \"The Gift\"   \n",
       " 7           48              8                      \"Hardhome\"   \n",
       " 8           49              9          \"The Dance of Dragons\"   \n",
       " 9           50             10                \"Mother's Mercy\"   \n",
       " \n",
       "         Directed by                   Written by Original air date [20]  \\\n",
       " 0    Michael Slovis  David Benioff & D. B. Weiss         April 12, 2015   \n",
       " 1    Michael Slovis  David Benioff & D. B. Weiss         April 19, 2015   \n",
       " 2        Mark Mylod  David Benioff & D. B. Weiss         April 26, 2015   \n",
       " 3        Mark Mylod                    Dave Hill            May 3, 2015   \n",
       " 4    Jeremy Podeswa                 Bryan Cogman           May 10, 2015   \n",
       " 5    Jeremy Podeswa                 Bryan Cogman           May 17, 2015   \n",
       " 6  Miguel Sapochnik  David Benioff & D. B. Weiss           May 24, 2015   \n",
       " 7  Miguel Sapochnik  David Benioff & D. B. Weiss           May 31, 2015   \n",
       " 8      David Nutter  David Benioff & D. B. Weiss           June 7, 2015   \n",
       " 9      David Nutter  David Benioff & D. B. Weiss          June 14, 2015   \n",
       " \n",
       "   U.S. viewers (millions)  \n",
       " 0                8.00[61]  \n",
       " 1                6.81[62]  \n",
       " 2                6.71[63]  \n",
       " 3                6.82[64]  \n",
       " 4                6.56[65]  \n",
       " 5                6.24[66]  \n",
       " 6                5.40[67]  \n",
       " 7                7.01[68]  \n",
       " 8                7.14[69]  \n",
       " 9                8.11[70]  ,\n",
       "    No. overall  No. in season                     Title       Directed by  \\\n",
       " 0           51              1           \"The Red Woman\"    Jeremy Podeswa   \n",
       " 1           52              2                    \"Home\"    Jeremy Podeswa   \n",
       " 2           53              3             \"Oathbreaker\"   Daniel Sackheim   \n",
       " 3           54              4    \"Book of the Stranger\"   Daniel Sackheim   \n",
       " 4           55              5                \"The Door\"       Jack Bender   \n",
       " 5           56              6       \"Blood of My Blood\"       Jack Bender   \n",
       " 6           57              7          \"The Broken Man\"        Mark Mylod   \n",
       " 7           58              8                  \"No One\"        Mark Mylod   \n",
       " 8           59              9  \"Battle of the Bastards\"  Miguel Sapochnik   \n",
       " 9           60             10     \"The Winds of Winter\"  Miguel Sapochnik   \n",
       " \n",
       "                     Written by Original air date [20] U.S. viewers (millions)  \n",
       " 0  David Benioff & D. B. Weiss         April 24, 2016                7.94[71]  \n",
       " 1                    Dave Hill            May 1, 2016                7.29[72]  \n",
       " 2  David Benioff & D. B. Weiss            May 8, 2016                7.28[73]  \n",
       " 3  David Benioff & D. B. Weiss           May 15, 2016                7.82[74]  \n",
       " 4  David Benioff & D. B. Weiss           May 22, 2016                7.89[75]  \n",
       " 5                 Bryan Cogman           May 29, 2016                6.71[76]  \n",
       " 6                 Bryan Cogman           June 5, 2016                7.80[77]  \n",
       " 7  David Benioff & D. B. Weiss          June 12, 2016                7.60[78]  \n",
       " 8  David Benioff & D. B. Weiss          June 19, 2016                7.66[79]  \n",
       " 9  David Benioff & D. B. Weiss          June 26, 2016                8.89[80]  ,\n",
       "    No. overall  No. in season                      Title     Directed by  \\\n",
       " 0           61              1              \"Dragonstone\"  Jeremy Podeswa   \n",
       " 1           62              2                \"Stormborn\"      Mark Mylod   \n",
       " 2           63              3      \"The Queen's Justice\"      Mark Mylod   \n",
       " 3           64              4        \"The Spoils of War\"    Matt Shakman   \n",
       " 4           65              5                \"Eastwatch\"    Matt Shakman   \n",
       " 5           66              6          \"Beyond the Wall\"     Alan Taylor   \n",
       " 6           67              7  \"The Dragon and the Wolf\"  Jeremy Podeswa   \n",
       " \n",
       "                     Written by Original air date [20] U.S. viewers (millions)  \n",
       " 0  David Benioff & D. B. Weiss          July 16, 2017               10.11[81]  \n",
       " 1                 Bryan Cogman          July 23, 2017                9.27[82]  \n",
       " 2  David Benioff & D. B. Weiss          July 30, 2017                9.25[83]  \n",
       " 3  David Benioff & D. B. Weiss         August 6, 2017               10.17[84]  \n",
       " 4                    Dave Hill        August 13, 2017               10.72[85]  \n",
       " 5  David Benioff & D. B. Weiss        August 20, 2017               10.24[86]  \n",
       " 6  David Benioff & D. B. Weiss        August 27, 2017               12.07[87]  ,\n",
       "    No. overall  No. in season                             Title  \\\n",
       " 0           68              1                      \"Winterfell\"   \n",
       " 1           69              2  \"A Knight of the Seven Kingdoms\"   \n",
       " 2           70              3                  \"The Long Night\"   \n",
       " 3           71              4          \"The Last of the Starks\"   \n",
       " 4           72              5                       \"The Bells\"   \n",
       " 5           73              6                 \"The Iron Throne\"   \n",
       " \n",
       "                    Directed by                   Written by  \\\n",
       " 0                 David Nutter                    Dave Hill   \n",
       " 1                 David Nutter                 Bryan Cogman   \n",
       " 2             Miguel Sapochnik  David Benioff & D. B. Weiss   \n",
       " 3                 David Nutter  David Benioff & D. B. Weiss   \n",
       " 4             Miguel Sapochnik  David Benioff & D. B. Weiss   \n",
       " 5  David Benioff & D. B. Weiss  David Benioff & D. B. Weiss   \n",
       " \n",
       "   Original air date [20] U.S. viewers (millions)  \n",
       " 0         April 14, 2019               11.76[88]  \n",
       " 1         April 21, 2019               10.29[89]  \n",
       " 2         April 28, 2019               12.02[90]  \n",
       " 3            May 5, 2019               11.80[91]  \n",
       " 4           May 12, 2019               12.48[92]  \n",
       " 5           May 19, 2019               13.61[93]  ]"
      ]
     },
     "execution_count": 91,
     "metadata": {},
     "output_type": "execute_result"
    }
   ],
   "source": [
    "append_data"
   ]
  },
  {
   "cell_type": "code",
   "execution_count": 92,
   "id": "0d2cb231-afbc-4a25-8c9b-026df27787b5",
   "metadata": {},
   "outputs": [
    {
     "data": {
      "text/html": [
       "<div>\n",
       "<style scoped>\n",
       "    .dataframe tbody tr th:only-of-type {\n",
       "        vertical-align: middle;\n",
       "    }\n",
       "\n",
       "    .dataframe tbody tr th {\n",
       "        vertical-align: top;\n",
       "    }\n",
       "\n",
       "    .dataframe thead th {\n",
       "        text-align: right;\n",
       "    }\n",
       "</style>\n",
       "<table border=\"1\" class=\"dataframe\">\n",
       "  <thead>\n",
       "    <tr style=\"text-align: right;\">\n",
       "      <th></th>\n",
       "      <th>No. overall</th>\n",
       "      <th>No. in season</th>\n",
       "      <th>Title</th>\n",
       "      <th>Directed by</th>\n",
       "      <th>Written by</th>\n",
       "      <th>Original air date [20]</th>\n",
       "      <th>U.S. viewers (millions)</th>\n",
       "    </tr>\n",
       "  </thead>\n",
       "  <tbody>\n",
       "    <tr>\n",
       "      <th>0</th>\n",
       "      <td>1</td>\n",
       "      <td>1</td>\n",
       "      <td>\"Winter Is Coming\"</td>\n",
       "      <td>Tim Van Patten</td>\n",
       "      <td>David Benioff &amp; D. B. Weiss</td>\n",
       "      <td>April 17, 2011</td>\n",
       "      <td>2.22[21]</td>\n",
       "    </tr>\n",
       "    <tr>\n",
       "      <th>1</th>\n",
       "      <td>2</td>\n",
       "      <td>2</td>\n",
       "      <td>\"The Kingsroad\"</td>\n",
       "      <td>Tim Van Patten</td>\n",
       "      <td>David Benioff &amp; D. B. Weiss</td>\n",
       "      <td>April 24, 2011</td>\n",
       "      <td>2.20[22]</td>\n",
       "    </tr>\n",
       "    <tr>\n",
       "      <th>2</th>\n",
       "      <td>3</td>\n",
       "      <td>3</td>\n",
       "      <td>\"Lord Snow\"</td>\n",
       "      <td>Brian Kirk</td>\n",
       "      <td>David Benioff &amp; D. B. Weiss</td>\n",
       "      <td>May 1, 2011</td>\n",
       "      <td>2.44[23]</td>\n",
       "    </tr>\n",
       "    <tr>\n",
       "      <th>3</th>\n",
       "      <td>4</td>\n",
       "      <td>4</td>\n",
       "      <td>\"Cripples, Bastards, and Broken Things\"</td>\n",
       "      <td>Brian Kirk</td>\n",
       "      <td>Bryan Cogman</td>\n",
       "      <td>May 8, 2011</td>\n",
       "      <td>2.45[24]</td>\n",
       "    </tr>\n",
       "    <tr>\n",
       "      <th>4</th>\n",
       "      <td>5</td>\n",
       "      <td>5</td>\n",
       "      <td>\"The Wolf and the Lion\"</td>\n",
       "      <td>Brian Kirk</td>\n",
       "      <td>David Benioff &amp; D. B. Weiss</td>\n",
       "      <td>May 15, 2011</td>\n",
       "      <td>2.58[25]</td>\n",
       "    </tr>\n",
       "    <tr>\n",
       "      <th>...</th>\n",
       "      <td>...</td>\n",
       "      <td>...</td>\n",
       "      <td>...</td>\n",
       "      <td>...</td>\n",
       "      <td>...</td>\n",
       "      <td>...</td>\n",
       "      <td>...</td>\n",
       "    </tr>\n",
       "    <tr>\n",
       "      <th>1</th>\n",
       "      <td>69</td>\n",
       "      <td>2</td>\n",
       "      <td>\"A Knight of the Seven Kingdoms\"</td>\n",
       "      <td>David Nutter</td>\n",
       "      <td>Bryan Cogman</td>\n",
       "      <td>April 21, 2019</td>\n",
       "      <td>10.29[89]</td>\n",
       "    </tr>\n",
       "    <tr>\n",
       "      <th>2</th>\n",
       "      <td>70</td>\n",
       "      <td>3</td>\n",
       "      <td>\"The Long Night\"</td>\n",
       "      <td>Miguel Sapochnik</td>\n",
       "      <td>David Benioff &amp; D. B. Weiss</td>\n",
       "      <td>April 28, 2019</td>\n",
       "      <td>12.02[90]</td>\n",
       "    </tr>\n",
       "    <tr>\n",
       "      <th>3</th>\n",
       "      <td>71</td>\n",
       "      <td>4</td>\n",
       "      <td>\"The Last of the Starks\"</td>\n",
       "      <td>David Nutter</td>\n",
       "      <td>David Benioff &amp; D. B. Weiss</td>\n",
       "      <td>May 5, 2019</td>\n",
       "      <td>11.80[91]</td>\n",
       "    </tr>\n",
       "    <tr>\n",
       "      <th>4</th>\n",
       "      <td>72</td>\n",
       "      <td>5</td>\n",
       "      <td>\"The Bells\"</td>\n",
       "      <td>Miguel Sapochnik</td>\n",
       "      <td>David Benioff &amp; D. B. Weiss</td>\n",
       "      <td>May 12, 2019</td>\n",
       "      <td>12.48[92]</td>\n",
       "    </tr>\n",
       "    <tr>\n",
       "      <th>5</th>\n",
       "      <td>73</td>\n",
       "      <td>6</td>\n",
       "      <td>\"The Iron Throne\"</td>\n",
       "      <td>David Benioff &amp; D. B. Weiss</td>\n",
       "      <td>David Benioff &amp; D. B. Weiss</td>\n",
       "      <td>May 19, 2019</td>\n",
       "      <td>13.61[93]</td>\n",
       "    </tr>\n",
       "  </tbody>\n",
       "</table>\n",
       "<p>73 rows × 7 columns</p>\n",
       "</div>"
      ],
      "text/plain": [
       "    No. overall  No. in season                                    Title  \\\n",
       "0             1              1                       \"Winter Is Coming\"   \n",
       "1             2              2                          \"The Kingsroad\"   \n",
       "2             3              3                              \"Lord Snow\"   \n",
       "3             4              4  \"Cripples, Bastards, and Broken Things\"   \n",
       "4             5              5                  \"The Wolf and the Lion\"   \n",
       "..          ...            ...                                      ...   \n",
       "1            69              2         \"A Knight of the Seven Kingdoms\"   \n",
       "2            70              3                         \"The Long Night\"   \n",
       "3            71              4                 \"The Last of the Starks\"   \n",
       "4            72              5                              \"The Bells\"   \n",
       "5            73              6                        \"The Iron Throne\"   \n",
       "\n",
       "                    Directed by                   Written by  \\\n",
       "0                Tim Van Patten  David Benioff & D. B. Weiss   \n",
       "1                Tim Van Patten  David Benioff & D. B. Weiss   \n",
       "2                    Brian Kirk  David Benioff & D. B. Weiss   \n",
       "3                    Brian Kirk                 Bryan Cogman   \n",
       "4                    Brian Kirk  David Benioff & D. B. Weiss   \n",
       "..                          ...                          ...   \n",
       "1                  David Nutter                 Bryan Cogman   \n",
       "2              Miguel Sapochnik  David Benioff & D. B. Weiss   \n",
       "3                  David Nutter  David Benioff & D. B. Weiss   \n",
       "4              Miguel Sapochnik  David Benioff & D. B. Weiss   \n",
       "5   David Benioff & D. B. Weiss  David Benioff & D. B. Weiss   \n",
       "\n",
       "   Original air date [20] U.S. viewers (millions)  \n",
       "0          April 17, 2011                2.22[21]  \n",
       "1          April 24, 2011                2.20[22]  \n",
       "2             May 1, 2011                2.44[23]  \n",
       "3             May 8, 2011                2.45[24]  \n",
       "4            May 15, 2011                2.58[25]  \n",
       "..                    ...                     ...  \n",
       "1          April 21, 2019               10.29[89]  \n",
       "2          April 28, 2019               12.02[90]  \n",
       "3             May 5, 2019               11.80[91]  \n",
       "4            May 12, 2019               12.48[92]  \n",
       "5            May 19, 2019               13.61[93]  \n",
       "\n",
       "[73 rows x 7 columns]"
      ]
     },
     "execution_count": 92,
     "metadata": {},
     "output_type": "execute_result"
    }
   ],
   "source": [
    "df=pd.concat(append_data)\n",
    "df"
   ]
  },
  {
   "cell_type": "code",
   "execution_count": 93,
   "id": "163a7ee2-2ae2-49b1-b04c-1418b9120296",
   "metadata": {},
   "outputs": [
    {
     "name": "stdout",
     "output_type": "stream",
     "text": [
      "<class 'pandas.core.frame.DataFrame'>\n",
      "Index: 73 entries, 0 to 5\n",
      "Data columns (total 7 columns):\n",
      " #   Column                   Non-Null Count  Dtype \n",
      "---  ------                   --------------  ----- \n",
      " 0   No. overall              73 non-null     int64 \n",
      " 1   No. in season            73 non-null     int64 \n",
      " 2   Title                    73 non-null     object\n",
      " 3   Directed by              73 non-null     object\n",
      " 4   Written by               73 non-null     object\n",
      " 5   Original air date [20]   73 non-null     object\n",
      " 6   U.S. viewers (millions)  73 non-null     object\n",
      "dtypes: int64(2), object(5)\n",
      "memory usage: 4.6+ KB\n"
     ]
    }
   ],
   "source": [
    "df.info()"
   ]
  },
  {
   "cell_type": "code",
   "execution_count": 104,
   "id": "6bb77158-3e67-4a43-b273-1c670c94aeda",
   "metadata": {},
   "outputs": [
    {
     "data": {
      "text/html": [
       "<div>\n",
       "<style scoped>\n",
       "    .dataframe tbody tr th:only-of-type {\n",
       "        vertical-align: middle;\n",
       "    }\n",
       "\n",
       "    .dataframe tbody tr th {\n",
       "        vertical-align: top;\n",
       "    }\n",
       "\n",
       "    .dataframe thead th {\n",
       "        text-align: right;\n",
       "    }\n",
       "</style>\n",
       "<table border=\"1\" class=\"dataframe\">\n",
       "  <thead>\n",
       "    <tr style=\"text-align: right;\">\n",
       "      <th></th>\n",
       "      <th>No. overall</th>\n",
       "      <th>No. in season</th>\n",
       "      <th>Title</th>\n",
       "      <th>Directed by</th>\n",
       "      <th>Written by</th>\n",
       "      <th>Original air date [20]</th>\n",
       "      <th>U.S. viewers (millions)</th>\n",
       "    </tr>\n",
       "  </thead>\n",
       "  <tbody>\n",
       "    <tr>\n",
       "      <th>0</th>\n",
       "      <td>1</td>\n",
       "      <td>1</td>\n",
       "      <td>\"Winter Is Coming\"</td>\n",
       "      <td>Tim Van Patten</td>\n",
       "      <td>David Benioff &amp; D. B. Weiss</td>\n",
       "      <td>April 17, 2011</td>\n",
       "      <td>2.22</td>\n",
       "    </tr>\n",
       "    <tr>\n",
       "      <th>1</th>\n",
       "      <td>2</td>\n",
       "      <td>2</td>\n",
       "      <td>\"The Kingsroad\"</td>\n",
       "      <td>Tim Van Patten</td>\n",
       "      <td>David Benioff &amp; D. B. Weiss</td>\n",
       "      <td>April 24, 2011</td>\n",
       "      <td>2.20</td>\n",
       "    </tr>\n",
       "    <tr>\n",
       "      <th>2</th>\n",
       "      <td>3</td>\n",
       "      <td>3</td>\n",
       "      <td>\"Lord Snow\"</td>\n",
       "      <td>Brian Kirk</td>\n",
       "      <td>David Benioff &amp; D. B. Weiss</td>\n",
       "      <td>May 1, 2011</td>\n",
       "      <td>2.44</td>\n",
       "    </tr>\n",
       "    <tr>\n",
       "      <th>3</th>\n",
       "      <td>4</td>\n",
       "      <td>4</td>\n",
       "      <td>\"Cripples, Bastards, and Broken Things\"</td>\n",
       "      <td>Brian Kirk</td>\n",
       "      <td>Bryan Cogman</td>\n",
       "      <td>May 8, 2011</td>\n",
       "      <td>2.45</td>\n",
       "    </tr>\n",
       "    <tr>\n",
       "      <th>4</th>\n",
       "      <td>5</td>\n",
       "      <td>5</td>\n",
       "      <td>\"The Wolf and the Lion\"</td>\n",
       "      <td>Brian Kirk</td>\n",
       "      <td>David Benioff &amp; D. B. Weiss</td>\n",
       "      <td>May 15, 2011</td>\n",
       "      <td>2.58</td>\n",
       "    </tr>\n",
       "    <tr>\n",
       "      <th>...</th>\n",
       "      <td>...</td>\n",
       "      <td>...</td>\n",
       "      <td>...</td>\n",
       "      <td>...</td>\n",
       "      <td>...</td>\n",
       "      <td>...</td>\n",
       "      <td>...</td>\n",
       "    </tr>\n",
       "    <tr>\n",
       "      <th>1</th>\n",
       "      <td>69</td>\n",
       "      <td>2</td>\n",
       "      <td>\"A Knight of the Seven Kingdoms\"</td>\n",
       "      <td>David Nutter</td>\n",
       "      <td>Bryan Cogman</td>\n",
       "      <td>April 21, 2019</td>\n",
       "      <td>10.20</td>\n",
       "    </tr>\n",
       "    <tr>\n",
       "      <th>2</th>\n",
       "      <td>70</td>\n",
       "      <td>3</td>\n",
       "      <td>\"The Long Night\"</td>\n",
       "      <td>Miguel Sapochnik</td>\n",
       "      <td>David Benioff &amp; D. B. Weiss</td>\n",
       "      <td>April 28, 2019</td>\n",
       "      <td>12.00</td>\n",
       "    </tr>\n",
       "    <tr>\n",
       "      <th>3</th>\n",
       "      <td>71</td>\n",
       "      <td>4</td>\n",
       "      <td>\"The Last of the Starks\"</td>\n",
       "      <td>David Nutter</td>\n",
       "      <td>David Benioff &amp; D. B. Weiss</td>\n",
       "      <td>May 5, 2019</td>\n",
       "      <td>11.80</td>\n",
       "    </tr>\n",
       "    <tr>\n",
       "      <th>4</th>\n",
       "      <td>72</td>\n",
       "      <td>5</td>\n",
       "      <td>\"The Bells\"</td>\n",
       "      <td>Miguel Sapochnik</td>\n",
       "      <td>David Benioff &amp; D. B. Weiss</td>\n",
       "      <td>May 12, 2019</td>\n",
       "      <td>12.40</td>\n",
       "    </tr>\n",
       "    <tr>\n",
       "      <th>5</th>\n",
       "      <td>73</td>\n",
       "      <td>6</td>\n",
       "      <td>\"The Iron Throne\"</td>\n",
       "      <td>David Benioff &amp; D. B. Weiss</td>\n",
       "      <td>David Benioff &amp; D. B. Weiss</td>\n",
       "      <td>May 19, 2019</td>\n",
       "      <td>13.60</td>\n",
       "    </tr>\n",
       "  </tbody>\n",
       "</table>\n",
       "<p>73 rows × 7 columns</p>\n",
       "</div>"
      ],
      "text/plain": [
       "    No. overall  No. in season                                    Title  \\\n",
       "0             1              1                       \"Winter Is Coming\"   \n",
       "1             2              2                          \"The Kingsroad\"   \n",
       "2             3              3                              \"Lord Snow\"   \n",
       "3             4              4  \"Cripples, Bastards, and Broken Things\"   \n",
       "4             5              5                  \"The Wolf and the Lion\"   \n",
       "..          ...            ...                                      ...   \n",
       "1            69              2         \"A Knight of the Seven Kingdoms\"   \n",
       "2            70              3                         \"The Long Night\"   \n",
       "3            71              4                 \"The Last of the Starks\"   \n",
       "4            72              5                              \"The Bells\"   \n",
       "5            73              6                        \"The Iron Throne\"   \n",
       "\n",
       "                    Directed by                   Written by  \\\n",
       "0                Tim Van Patten  David Benioff & D. B. Weiss   \n",
       "1                Tim Van Patten  David Benioff & D. B. Weiss   \n",
       "2                    Brian Kirk  David Benioff & D. B. Weiss   \n",
       "3                    Brian Kirk                 Bryan Cogman   \n",
       "4                    Brian Kirk  David Benioff & D. B. Weiss   \n",
       "..                          ...                          ...   \n",
       "1                  David Nutter                 Bryan Cogman   \n",
       "2              Miguel Sapochnik  David Benioff & D. B. Weiss   \n",
       "3                  David Nutter  David Benioff & D. B. Weiss   \n",
       "4              Miguel Sapochnik  David Benioff & D. B. Weiss   \n",
       "5   David Benioff & D. B. Weiss  David Benioff & D. B. Weiss   \n",
       "\n",
       "   Original air date [20]  U.S. viewers (millions)  \n",
       "0          April 17, 2011                     2.22  \n",
       "1          April 24, 2011                     2.20  \n",
       "2             May 1, 2011                     2.44  \n",
       "3             May 8, 2011                     2.45  \n",
       "4            May 15, 2011                     2.58  \n",
       "..                    ...                      ...  \n",
       "1          April 21, 2019                    10.20  \n",
       "2          April 28, 2019                    12.00  \n",
       "3             May 5, 2019                    11.80  \n",
       "4            May 12, 2019                    12.40  \n",
       "5            May 19, 2019                    13.60  \n",
       "\n",
       "[73 rows x 7 columns]"
      ]
     },
     "execution_count": 104,
     "metadata": {},
     "output_type": "execute_result"
    }
   ],
   "source": [
    "df.head()\n",
    "df.info"
   ]
  },
  {
   "cell_type": "code",
   "execution_count": null,
   "id": "578ca1a9-6f57-4810-bb1f-1e01cf5baeef",
   "metadata": {},
   "outputs": [],
   "source": [
    "df['U.S. viewers (millions)']=[x[:4] for x in df['U.S. viewers (millions)']]\n",
    "df['U.S. viewers (millions)']=pd.to_numeric(df['U.S. viewers (millions)'])\n"
   ]
  },
  {
   "cell_type": "code",
   "execution_count": 99,
   "id": "72f5e777-ff12-4744-86c5-688240120da6",
   "metadata": {},
   "outputs": [
    {
     "name": "stdout",
     "output_type": "stream",
     "text": [
      "<class 'pandas.core.frame.DataFrame'>\n",
      "Index: 73 entries, 0 to 5\n",
      "Data columns (total 7 columns):\n",
      " #   Column                   Non-Null Count  Dtype  \n",
      "---  ------                   --------------  -----  \n",
      " 0   No. overall              73 non-null     int64  \n",
      " 1   No. in season            73 non-null     int64  \n",
      " 2   Title                    73 non-null     object \n",
      " 3   Directed by              73 non-null     object \n",
      " 4   Written by               73 non-null     object \n",
      " 5   Original air date [20]   73 non-null     object \n",
      " 6   U.S. viewers (millions)  73 non-null     float64\n",
      "dtypes: float64(1), int64(2), object(4)\n",
      "memory usage: 4.6+ KB\n"
     ]
    }
   ],
   "source": [
    "df.info()"
   ]
  },
  {
   "cell_type": "code",
   "execution_count": 100,
   "id": "f6ad72b7-f771-4add-96a5-19ab24151561",
   "metadata": {},
   "outputs": [],
   "source": [
    "import plotly.express as go"
   ]
  },
  {
   "cell_type": "code",
   "execution_count": 102,
   "id": "0e0e07ae-1081-447f-aa79-d6297db82e1a",
   "metadata": {},
   "outputs": [
    {
     "data": {
      "application/vnd.plotly.v1+json": {
       "config": {
        "plotlyServerURL": "https://plot.ly"
       },
       "data": [
        {
         "alignmentgroup": "True",
         "hovertemplate": "No. overall=%{x}<br>U.S. viewers (millions)=%{y}<extra></extra>",
         "legendgroup": "",
         "marker": {
          "color": "#636efa",
          "pattern": {
           "shape": ""
          }
         },
         "name": "",
         "offsetgroup": "",
         "orientation": "v",
         "showlegend": false,
         "textposition": "auto",
         "type": "bar",
         "x": [
          1,
          2,
          3,
          4,
          5,
          6,
          7,
          8,
          9,
          10,
          11,
          12,
          13,
          14,
          15,
          16,
          17,
          18,
          19,
          20,
          21,
          22,
          23,
          24,
          25,
          26,
          27,
          28,
          29,
          30,
          31,
          32,
          33,
          34,
          35,
          36,
          37,
          38,
          39,
          40,
          41,
          42,
          43,
          44,
          45,
          46,
          47,
          48,
          49,
          50,
          51,
          52,
          53,
          54,
          55,
          56,
          57,
          58,
          59,
          60,
          61,
          62,
          63,
          64,
          65,
          66,
          67,
          68,
          69,
          70,
          71,
          72,
          73
         ],
         "xaxis": "x",
         "y": [
          2.22,
          2.2,
          2.44,
          2.45,
          2.58,
          2.44,
          2.4,
          2.72,
          2.66,
          3.04,
          3.86,
          3.76,
          3.77,
          3.65,
          3.9,
          3.88,
          3.69,
          3.86,
          3.38,
          4.2,
          4.37,
          4.27,
          4.72,
          4.87,
          5.35,
          5.5,
          4.84,
          5.13,
          5.22,
          5.39,
          6.64,
          6.31,
          6.59,
          6.95,
          7.16,
          6.4,
          7.2,
          7.17,
          6.95,
          7.09,
          8,
          6.81,
          6.71,
          6.82,
          6.56,
          6.24,
          5.4,
          7.01,
          7.14,
          8.11,
          7.94,
          7.29,
          7.28,
          7.82,
          7.89,
          6.71,
          7.8,
          7.6,
          7.66,
          8.89,
          10.1,
          9.27,
          9.25,
          10.1,
          10.7,
          10.2,
          12,
          11.7,
          10.2,
          12,
          11.8,
          12.4,
          13.6
         ],
         "yaxis": "y"
        }
       ],
       "layout": {
        "autosize": true,
        "barmode": "relative",
        "legend": {
         "tracegroupgap": 0
        },
        "margin": {
         "t": 60
        },
        "template": {
         "data": {
          "bar": [
           {
            "error_x": {
             "color": "#2a3f5f"
            },
            "error_y": {
             "color": "#2a3f5f"
            },
            "marker": {
             "line": {
              "color": "#E5ECF6",
              "width": 0.5
             },
             "pattern": {
              "fillmode": "overlay",
              "size": 10,
              "solidity": 0.2
             }
            },
            "type": "bar"
           }
          ],
          "barpolar": [
           {
            "marker": {
             "line": {
              "color": "#E5ECF6",
              "width": 0.5
             },
             "pattern": {
              "fillmode": "overlay",
              "size": 10,
              "solidity": 0.2
             }
            },
            "type": "barpolar"
           }
          ],
          "carpet": [
           {
            "aaxis": {
             "endlinecolor": "#2a3f5f",
             "gridcolor": "white",
             "linecolor": "white",
             "minorgridcolor": "white",
             "startlinecolor": "#2a3f5f"
            },
            "baxis": {
             "endlinecolor": "#2a3f5f",
             "gridcolor": "white",
             "linecolor": "white",
             "minorgridcolor": "white",
             "startlinecolor": "#2a3f5f"
            },
            "type": "carpet"
           }
          ],
          "choropleth": [
           {
            "colorbar": {
             "outlinewidth": 0,
             "ticks": ""
            },
            "type": "choropleth"
           }
          ],
          "contour": [
           {
            "colorbar": {
             "outlinewidth": 0,
             "ticks": ""
            },
            "colorscale": [
             [
              0,
              "#0d0887"
             ],
             [
              0.1111111111111111,
              "#46039f"
             ],
             [
              0.2222222222222222,
              "#7201a8"
             ],
             [
              0.3333333333333333,
              "#9c179e"
             ],
             [
              0.4444444444444444,
              "#bd3786"
             ],
             [
              0.5555555555555556,
              "#d8576b"
             ],
             [
              0.6666666666666666,
              "#ed7953"
             ],
             [
              0.7777777777777778,
              "#fb9f3a"
             ],
             [
              0.8888888888888888,
              "#fdca26"
             ],
             [
              1,
              "#f0f921"
             ]
            ],
            "type": "contour"
           }
          ],
          "contourcarpet": [
           {
            "colorbar": {
             "outlinewidth": 0,
             "ticks": ""
            },
            "type": "contourcarpet"
           }
          ],
          "heatmap": [
           {
            "colorbar": {
             "outlinewidth": 0,
             "ticks": ""
            },
            "colorscale": [
             [
              0,
              "#0d0887"
             ],
             [
              0.1111111111111111,
              "#46039f"
             ],
             [
              0.2222222222222222,
              "#7201a8"
             ],
             [
              0.3333333333333333,
              "#9c179e"
             ],
             [
              0.4444444444444444,
              "#bd3786"
             ],
             [
              0.5555555555555556,
              "#d8576b"
             ],
             [
              0.6666666666666666,
              "#ed7953"
             ],
             [
              0.7777777777777778,
              "#fb9f3a"
             ],
             [
              0.8888888888888888,
              "#fdca26"
             ],
             [
              1,
              "#f0f921"
             ]
            ],
            "type": "heatmap"
           }
          ],
          "heatmapgl": [
           {
            "colorbar": {
             "outlinewidth": 0,
             "ticks": ""
            },
            "colorscale": [
             [
              0,
              "#0d0887"
             ],
             [
              0.1111111111111111,
              "#46039f"
             ],
             [
              0.2222222222222222,
              "#7201a8"
             ],
             [
              0.3333333333333333,
              "#9c179e"
             ],
             [
              0.4444444444444444,
              "#bd3786"
             ],
             [
              0.5555555555555556,
              "#d8576b"
             ],
             [
              0.6666666666666666,
              "#ed7953"
             ],
             [
              0.7777777777777778,
              "#fb9f3a"
             ],
             [
              0.8888888888888888,
              "#fdca26"
             ],
             [
              1,
              "#f0f921"
             ]
            ],
            "type": "heatmapgl"
           }
          ],
          "histogram": [
           {
            "marker": {
             "pattern": {
              "fillmode": "overlay",
              "size": 10,
              "solidity": 0.2
             }
            },
            "type": "histogram"
           }
          ],
          "histogram2d": [
           {
            "colorbar": {
             "outlinewidth": 0,
             "ticks": ""
            },
            "colorscale": [
             [
              0,
              "#0d0887"
             ],
             [
              0.1111111111111111,
              "#46039f"
             ],
             [
              0.2222222222222222,
              "#7201a8"
             ],
             [
              0.3333333333333333,
              "#9c179e"
             ],
             [
              0.4444444444444444,
              "#bd3786"
             ],
             [
              0.5555555555555556,
              "#d8576b"
             ],
             [
              0.6666666666666666,
              "#ed7953"
             ],
             [
              0.7777777777777778,
              "#fb9f3a"
             ],
             [
              0.8888888888888888,
              "#fdca26"
             ],
             [
              1,
              "#f0f921"
             ]
            ],
            "type": "histogram2d"
           }
          ],
          "histogram2dcontour": [
           {
            "colorbar": {
             "outlinewidth": 0,
             "ticks": ""
            },
            "colorscale": [
             [
              0,
              "#0d0887"
             ],
             [
              0.1111111111111111,
              "#46039f"
             ],
             [
              0.2222222222222222,
              "#7201a8"
             ],
             [
              0.3333333333333333,
              "#9c179e"
             ],
             [
              0.4444444444444444,
              "#bd3786"
             ],
             [
              0.5555555555555556,
              "#d8576b"
             ],
             [
              0.6666666666666666,
              "#ed7953"
             ],
             [
              0.7777777777777778,
              "#fb9f3a"
             ],
             [
              0.8888888888888888,
              "#fdca26"
             ],
             [
              1,
              "#f0f921"
             ]
            ],
            "type": "histogram2dcontour"
           }
          ],
          "mesh3d": [
           {
            "colorbar": {
             "outlinewidth": 0,
             "ticks": ""
            },
            "type": "mesh3d"
           }
          ],
          "parcoords": [
           {
            "line": {
             "colorbar": {
              "outlinewidth": 0,
              "ticks": ""
             }
            },
            "type": "parcoords"
           }
          ],
          "pie": [
           {
            "automargin": true,
            "type": "pie"
           }
          ],
          "scatter": [
           {
            "fillpattern": {
             "fillmode": "overlay",
             "size": 10,
             "solidity": 0.2
            },
            "type": "scatter"
           }
          ],
          "scatter3d": [
           {
            "line": {
             "colorbar": {
              "outlinewidth": 0,
              "ticks": ""
             }
            },
            "marker": {
             "colorbar": {
              "outlinewidth": 0,
              "ticks": ""
             }
            },
            "type": "scatter3d"
           }
          ],
          "scattercarpet": [
           {
            "marker": {
             "colorbar": {
              "outlinewidth": 0,
              "ticks": ""
             }
            },
            "type": "scattercarpet"
           }
          ],
          "scattergeo": [
           {
            "marker": {
             "colorbar": {
              "outlinewidth": 0,
              "ticks": ""
             }
            },
            "type": "scattergeo"
           }
          ],
          "scattergl": [
           {
            "marker": {
             "colorbar": {
              "outlinewidth": 0,
              "ticks": ""
             }
            },
            "type": "scattergl"
           }
          ],
          "scattermapbox": [
           {
            "marker": {
             "colorbar": {
              "outlinewidth": 0,
              "ticks": ""
             }
            },
            "type": "scattermapbox"
           }
          ],
          "scatterpolar": [
           {
            "marker": {
             "colorbar": {
              "outlinewidth": 0,
              "ticks": ""
             }
            },
            "type": "scatterpolar"
           }
          ],
          "scatterpolargl": [
           {
            "marker": {
             "colorbar": {
              "outlinewidth": 0,
              "ticks": ""
             }
            },
            "type": "scatterpolargl"
           }
          ],
          "scatterternary": [
           {
            "marker": {
             "colorbar": {
              "outlinewidth": 0,
              "ticks": ""
             }
            },
            "type": "scatterternary"
           }
          ],
          "surface": [
           {
            "colorbar": {
             "outlinewidth": 0,
             "ticks": ""
            },
            "colorscale": [
             [
              0,
              "#0d0887"
             ],
             [
              0.1111111111111111,
              "#46039f"
             ],
             [
              0.2222222222222222,
              "#7201a8"
             ],
             [
              0.3333333333333333,
              "#9c179e"
             ],
             [
              0.4444444444444444,
              "#bd3786"
             ],
             [
              0.5555555555555556,
              "#d8576b"
             ],
             [
              0.6666666666666666,
              "#ed7953"
             ],
             [
              0.7777777777777778,
              "#fb9f3a"
             ],
             [
              0.8888888888888888,
              "#fdca26"
             ],
             [
              1,
              "#f0f921"
             ]
            ],
            "type": "surface"
           }
          ],
          "table": [
           {
            "cells": {
             "fill": {
              "color": "#EBF0F8"
             },
             "line": {
              "color": "white"
             }
            },
            "header": {
             "fill": {
              "color": "#C8D4E3"
             },
             "line": {
              "color": "white"
             }
            },
            "type": "table"
           }
          ]
         },
         "layout": {
          "annotationdefaults": {
           "arrowcolor": "#2a3f5f",
           "arrowhead": 0,
           "arrowwidth": 1
          },
          "autotypenumbers": "strict",
          "coloraxis": {
           "colorbar": {
            "outlinewidth": 0,
            "ticks": ""
           }
          },
          "colorscale": {
           "diverging": [
            [
             0,
             "#8e0152"
            ],
            [
             0.1,
             "#c51b7d"
            ],
            [
             0.2,
             "#de77ae"
            ],
            [
             0.3,
             "#f1b6da"
            ],
            [
             0.4,
             "#fde0ef"
            ],
            [
             0.5,
             "#f7f7f7"
            ],
            [
             0.6,
             "#e6f5d0"
            ],
            [
             0.7,
             "#b8e186"
            ],
            [
             0.8,
             "#7fbc41"
            ],
            [
             0.9,
             "#4d9221"
            ],
            [
             1,
             "#276419"
            ]
           ],
           "sequential": [
            [
             0,
             "#0d0887"
            ],
            [
             0.1111111111111111,
             "#46039f"
            ],
            [
             0.2222222222222222,
             "#7201a8"
            ],
            [
             0.3333333333333333,
             "#9c179e"
            ],
            [
             0.4444444444444444,
             "#bd3786"
            ],
            [
             0.5555555555555556,
             "#d8576b"
            ],
            [
             0.6666666666666666,
             "#ed7953"
            ],
            [
             0.7777777777777778,
             "#fb9f3a"
            ],
            [
             0.8888888888888888,
             "#fdca26"
            ],
            [
             1,
             "#f0f921"
            ]
           ],
           "sequentialminus": [
            [
             0,
             "#0d0887"
            ],
            [
             0.1111111111111111,
             "#46039f"
            ],
            [
             0.2222222222222222,
             "#7201a8"
            ],
            [
             0.3333333333333333,
             "#9c179e"
            ],
            [
             0.4444444444444444,
             "#bd3786"
            ],
            [
             0.5555555555555556,
             "#d8576b"
            ],
            [
             0.6666666666666666,
             "#ed7953"
            ],
            [
             0.7777777777777778,
             "#fb9f3a"
            ],
            [
             0.8888888888888888,
             "#fdca26"
            ],
            [
             1,
             "#f0f921"
            ]
           ]
          },
          "colorway": [
           "#636efa",
           "#EF553B",
           "#00cc96",
           "#ab63fa",
           "#FFA15A",
           "#19d3f3",
           "#FF6692",
           "#B6E880",
           "#FF97FF",
           "#FECB52"
          ],
          "font": {
           "color": "#2a3f5f"
          },
          "geo": {
           "bgcolor": "white",
           "lakecolor": "white",
           "landcolor": "#E5ECF6",
           "showlakes": true,
           "showland": true,
           "subunitcolor": "white"
          },
          "hoverlabel": {
           "align": "left"
          },
          "hovermode": "closest",
          "mapbox": {
           "style": "light"
          },
          "paper_bgcolor": "white",
          "plot_bgcolor": "#E5ECF6",
          "polar": {
           "angularaxis": {
            "gridcolor": "white",
            "linecolor": "white",
            "ticks": ""
           },
           "bgcolor": "#E5ECF6",
           "radialaxis": {
            "gridcolor": "white",
            "linecolor": "white",
            "ticks": ""
           }
          },
          "scene": {
           "xaxis": {
            "backgroundcolor": "#E5ECF6",
            "gridcolor": "white",
            "gridwidth": 2,
            "linecolor": "white",
            "showbackground": true,
            "ticks": "",
            "zerolinecolor": "white"
           },
           "yaxis": {
            "backgroundcolor": "#E5ECF6",
            "gridcolor": "white",
            "gridwidth": 2,
            "linecolor": "white",
            "showbackground": true,
            "ticks": "",
            "zerolinecolor": "white"
           },
           "zaxis": {
            "backgroundcolor": "#E5ECF6",
            "gridcolor": "white",
            "gridwidth": 2,
            "linecolor": "white",
            "showbackground": true,
            "ticks": "",
            "zerolinecolor": "white"
           }
          },
          "shapedefaults": {
           "line": {
            "color": "#2a3f5f"
           }
          },
          "ternary": {
           "aaxis": {
            "gridcolor": "white",
            "linecolor": "white",
            "ticks": ""
           },
           "baxis": {
            "gridcolor": "white",
            "linecolor": "white",
            "ticks": ""
           },
           "bgcolor": "#E5ECF6",
           "caxis": {
            "gridcolor": "white",
            "linecolor": "white",
            "ticks": ""
           }
          },
          "title": {
           "x": 0.05
          },
          "xaxis": {
           "automargin": true,
           "gridcolor": "white",
           "linecolor": "white",
           "ticks": "",
           "title": {
            "standoff": 15
           },
           "zerolinecolor": "white",
           "zerolinewidth": 2
          },
          "yaxis": {
           "automargin": true,
           "gridcolor": "white",
           "linecolor": "white",
           "ticks": "",
           "title": {
            "standoff": 15
           },
           "zerolinecolor": "white",
           "zerolinewidth": 2
          }
         }
        },
        "xaxis": {
         "anchor": "y",
         "autorange": true,
         "domain": [
          0,
          1
         ],
         "range": [
          0.5,
          73.5
         ],
         "title": {
          "text": "No. overall"
         },
         "type": "linear"
        },
        "yaxis": {
         "anchor": "x",
         "autorange": true,
         "domain": [
          0,
          1
         ],
         "range": [
          0,
          14.31578947368421
         ],
         "title": {
          "text": "U.S. viewers (millions)"
         },
         "type": "linear"
        }
       }
      },
      "image/png": "[encoded data removed]",
      "text/html": [
       "<div>                            <div id=\"cd3af396-f7ca-4f1f-bc99-cc928fb737f5\" class=\"plotly-graph-div\" style=\"height:525px; width:100%;\"></div>            <script type=\"text/javascript\">                require([\"plotly\"], function(Plotly) {                    window.PLOTLYENV=window.PLOTLYENV || {};                                    if (document.getElementById(\"cd3af396-f7ca-4f1f-bc99-cc928fb737f5\")) {                    Plotly.newPlot(                        \"cd3af396-f7ca-4f1f-bc99-cc928fb737f5\",                        [{\"alignmentgroup\":\"True\",\"hovertemplate\":\"No. overall=%{x}<br>U.S. viewers (millions)=%{y}<extra></extra>\",\"legendgroup\":\"\",\"marker\":{\"color\":\"#636efa\",\"pattern\":{\"shape\":\"\"}},\"name\":\"\",\"offsetgroup\":\"\",\"orientation\":\"v\",\"showlegend\":false,\"textposition\":\"auto\",\"x\":[1,2,3,4,5,6,7,8,9,10,11,12,13,14,15,16,17,18,19,20,21,22,23,24,25,26,27,28,29,30,31,32,33,34,35,36,37,38,39,40,41,42,43,44,45,46,47,48,49,50,51,52,53,54,55,56,57,58,59,60,61,62,63,64,65,66,67,68,69,70,71,72,73],\"xaxis\":\"x\",\"y\":[2.22,2.2,2.44,2.45,2.58,2.44,2.4,2.72,2.66,3.04,3.86,3.76,3.77,3.65,3.9,3.88,3.69,3.86,3.38,4.2,4.37,4.27,4.72,4.87,5.35,5.5,4.84,5.13,5.22,5.39,6.64,6.31,6.59,6.95,7.16,6.4,7.2,7.17,6.95,7.09,8.0,6.81,6.71,6.82,6.56,6.24,5.4,7.01,7.14,8.11,7.94,7.29,7.28,7.82,7.89,6.71,7.8,7.6,7.66,8.89,10.1,9.27,9.25,10.1,10.7,10.2,12.0,11.7,10.2,12.0,11.8,12.4,13.6],\"yaxis\":\"y\",\"type\":\"bar\"}],                        {\"template\":{\"data\":{\"histogram2dcontour\":[{\"type\":\"histogram2dcontour\",\"colorbar\":{\"outlinewidth\":0,\"ticks\":\"\"},\"colorscale\":[[0.0,\"#0d0887\"],[0.1111111111111111,\"#46039f\"],[0.2222222222222222,\"#7201a8\"],[0.3333333333333333,\"#9c179e\"],[0.4444444444444444,\"#bd3786\"],[0.5555555555555556,\"#d8576b\"],[0.6666666666666666,\"#ed7953\"],[0.7777777777777778,\"#fb9f3a\"],[0.8888888888888888,\"#fdca26\"],[1.0,\"#f0f921\"]]}],\"choropleth\":[{\"type\":\"choropleth\",\"colorbar\":{\"outlinewidth\":0,\"ticks\":\"\"}}],\"histogram2d\":[{\"type\":\"histogram2d\",\"colorbar\":{\"outlinewidth\":0,\"ticks\":\"\"},\"colorscale\":[[0.0,\"#0d0887\"],[0.1111111111111111,\"#46039f\"],[0.2222222222222222,\"#7201a8\"],[0.3333333333333333,\"#9c179e\"],[0.4444444444444444,\"#bd3786\"],[0.5555555555555556,\"#d8576b\"],[0.6666666666666666,\"#ed7953\"],[0.7777777777777778,\"#fb9f3a\"],[0.8888888888888888,\"#fdca26\"],[1.0,\"#f0f921\"]]}],\"heatmap\":[{\"type\":\"heatmap\",\"colorbar\":{\"outlinewidth\":0,\"ticks\":\"\"},\"colorscale\":[[0.0,\"#0d0887\"],[0.1111111111111111,\"#46039f\"],[0.2222222222222222,\"#7201a8\"],[0.3333333333333333,\"#9c179e\"],[0.4444444444444444,\"#bd3786\"],[0.5555555555555556,\"#d8576b\"],[0.6666666666666666,\"#ed7953\"],[0.7777777777777778,\"#fb9f3a\"],[0.8888888888888888,\"#fdca26\"],[1.0,\"#f0f921\"]]}],\"heatmapgl\":[{\"type\":\"heatmapgl\",\"colorbar\":{\"outlinewidth\":0,\"ticks\":\"\"},\"colorscale\":[[0.0,\"#0d0887\"],[0.1111111111111111,\"#46039f\"],[0.2222222222222222,\"#7201a8\"],[0.3333333333333333,\"#9c179e\"],[0.4444444444444444,\"#bd3786\"],[0.5555555555555556,\"#d8576b\"],[0.6666666666666666,\"#ed7953\"],[0.7777777777777778,\"#fb9f3a\"],[0.8888888888888888,\"#fdca26\"],[1.0,\"#f0f921\"]]}],\"contourcarpet\":[{\"type\":\"contourcarpet\",\"colorbar\":{\"outlinewidth\":0,\"ticks\":\"\"}}],\"contour\":[{\"type\":\"contour\",\"colorbar\":{\"outlinewidth\":0,\"ticks\":\"\"},\"colorscale\":[[0.0,\"#0d0887\"],[0.1111111111111111,\"#46039f\"],[0.2222222222222222,\"#7201a8\"],[0.3333333333333333,\"#9c179e\"],[0.4444444444444444,\"#bd3786\"],[0.5555555555555556,\"#d8576b\"],[0.6666666666666666,\"#ed7953\"],[0.7777777777777778,\"#fb9f3a\"],[0.8888888888888888,\"#fdca26\"],[1.0,\"#f0f921\"]]}],\"surface\":[{\"type\":\"surface\",\"colorbar\":{\"outlinewidth\":0,\"ticks\":\"\"},\"colorscale\":[[0.0,\"#0d0887\"],[0.1111111111111111,\"#46039f\"],[0.2222222222222222,\"#7201a8\"],[0.3333333333333333,\"#9c179e\"],[0.4444444444444444,\"#bd3786\"],[0.5555555555555556,\"#d8576b\"],[0.6666666666666666,\"#ed7953\"],[0.7777777777777778,\"#fb9f3a\"],[0.8888888888888888,\"#fdca26\"],[1.0,\"#f0f921\"]]}],\"mesh3d\":[{\"type\":\"mesh3d\",\"colorbar\":{\"outlinewidth\":0,\"ticks\":\"\"}}],\"scatter\":[{\"fillpattern\":{\"fillmode\":\"overlay\",\"size\":10,\"solidity\":0.2},\"type\":\"scatter\"}],\"parcoords\":[{\"type\":\"parcoords\",\"line\":{\"colorbar\":{\"outlinewidth\":0,\"ticks\":\"\"}}}],\"scatterpolargl\":[{\"type\":\"scatterpolargl\",\"marker\":{\"colorbar\":{\"outlinewidth\":0,\"ticks\":\"\"}}}],\"bar\":[{\"error_x\":{\"color\":\"#2a3f5f\"},\"error_y\":{\"color\":\"#2a3f5f\"},\"marker\":{\"line\":{\"color\":\"#E5ECF6\",\"width\":0.5},\"pattern\":{\"fillmode\":\"overlay\",\"size\":10,\"solidity\":0.2}},\"type\":\"bar\"}],\"scattergeo\":[{\"type\":\"scattergeo\",\"marker\":{\"colorbar\":{\"outlinewidth\":0,\"ticks\":\"\"}}}],\"scatterpolar\":[{\"type\":\"scatterpolar\",\"marker\":{\"colorbar\":{\"outlinewidth\":0,\"ticks\":\"\"}}}],\"histogram\":[{\"marker\":{\"pattern\":{\"fillmode\":\"overlay\",\"size\":10,\"solidity\":0.2}},\"type\":\"histogram\"}],\"scattergl\":[{\"type\":\"scattergl\",\"marker\":{\"colorbar\":{\"outlinewidth\":0,\"ticks\":\"\"}}}],\"scatter3d\":[{\"type\":\"scatter3d\",\"line\":{\"colorbar\":{\"outlinewidth\":0,\"ticks\":\"\"}},\"marker\":{\"colorbar\":{\"outlinewidth\":0,\"ticks\":\"\"}}}],\"scattermapbox\":[{\"type\":\"scattermapbox\",\"marker\":{\"colorbar\":{\"outlinewidth\":0,\"ticks\":\"\"}}}],\"scatterternary\":[{\"type\":\"scatterternary\",\"marker\":{\"colorbar\":{\"outlinewidth\":0,\"ticks\":\"\"}}}],\"scattercarpet\":[{\"type\":\"scattercarpet\",\"marker\":{\"colorbar\":{\"outlinewidth\":0,\"ticks\":\"\"}}}],\"carpet\":[{\"aaxis\":{\"endlinecolor\":\"#2a3f5f\",\"gridcolor\":\"white\",\"linecolor\":\"white\",\"minorgridcolor\":\"white\",\"startlinecolor\":\"#2a3f5f\"},\"baxis\":{\"endlinecolor\":\"#2a3f5f\",\"gridcolor\":\"white\",\"linecolor\":\"white\",\"minorgridcolor\":\"white\",\"startlinecolor\":\"#2a3f5f\"},\"type\":\"carpet\"}],\"table\":[{\"cells\":{\"fill\":{\"color\":\"#EBF0F8\"},\"line\":{\"color\":\"white\"}},\"header\":{\"fill\":{\"color\":\"#C8D4E3\"},\"line\":{\"color\":\"white\"}},\"type\":\"table\"}],\"barpolar\":[{\"marker\":{\"line\":{\"color\":\"#E5ECF6\",\"width\":0.5},\"pattern\":{\"fillmode\":\"overlay\",\"size\":10,\"solidity\":0.2}},\"type\":\"barpolar\"}],\"pie\":[{\"automargin\":true,\"type\":\"pie\"}]},\"layout\":{\"autotypenumbers\":\"strict\",\"colorway\":[\"#636efa\",\"#EF553B\",\"#00cc96\",\"#ab63fa\",\"#FFA15A\",\"#19d3f3\",\"#FF6692\",\"#B6E880\",\"#FF97FF\",\"#FECB52\"],\"font\":{\"color\":\"#2a3f5f\"},\"hovermode\":\"closest\",\"hoverlabel\":{\"align\":\"left\"},\"paper_bgcolor\":\"white\",\"plot_bgcolor\":\"#E5ECF6\",\"polar\":{\"bgcolor\":\"#E5ECF6\",\"angularaxis\":{\"gridcolor\":\"white\",\"linecolor\":\"white\",\"ticks\":\"\"},\"radialaxis\":{\"gridcolor\":\"white\",\"linecolor\":\"white\",\"ticks\":\"\"}},\"ternary\":{\"bgcolor\":\"#E5ECF6\",\"aaxis\":{\"gridcolor\":\"white\",\"linecolor\":\"white\",\"ticks\":\"\"},\"baxis\":{\"gridcolor\":\"white\",\"linecolor\":\"white\",\"ticks\":\"\"},\"caxis\":{\"gridcolor\":\"white\",\"linecolor\":\"white\",\"ticks\":\"\"}},\"coloraxis\":{\"colorbar\":{\"outlinewidth\":0,\"ticks\":\"\"}},\"colorscale\":{\"sequential\":[[0.0,\"#0d0887\"],[0.1111111111111111,\"#46039f\"],[0.2222222222222222,\"#7201a8\"],[0.3333333333333333,\"#9c179e\"],[0.4444444444444444,\"#bd3786\"],[0.5555555555555556,\"#d8576b\"],[0.6666666666666666,\"#ed7953\"],[0.7777777777777778,\"#fb9f3a\"],[0.8888888888888888,\"#fdca26\"],[1.0,\"#f0f921\"]],\"sequentialminus\":[[0.0,\"#0d0887\"],[0.1111111111111111,\"#46039f\"],[0.2222222222222222,\"#7201a8\"],[0.3333333333333333,\"#9c179e\"],[0.4444444444444444,\"#bd3786\"],[0.5555555555555556,\"#d8576b\"],[0.6666666666666666,\"#ed7953\"],[0.7777777777777778,\"#fb9f3a\"],[0.8888888888888888,\"#fdca26\"],[1.0,\"#f0f921\"]],\"diverging\":[[0,\"#8e0152\"],[0.1,\"#c51b7d\"],[0.2,\"#de77ae\"],[0.3,\"#f1b6da\"],[0.4,\"#fde0ef\"],[0.5,\"#f7f7f7\"],[0.6,\"#e6f5d0\"],[0.7,\"#b8e186\"],[0.8,\"#7fbc41\"],[0.9,\"#4d9221\"],[1,\"#276419\"]]},\"xaxis\":{\"gridcolor\":\"white\",\"linecolor\":\"white\",\"ticks\":\"\",\"title\":{\"standoff\":15},\"zerolinecolor\":\"white\",\"automargin\":true,\"zerolinewidth\":2},\"yaxis\":{\"gridcolor\":\"white\",\"linecolor\":\"white\",\"ticks\":\"\",\"title\":{\"standoff\":15},\"zerolinecolor\":\"white\",\"automargin\":true,\"zerolinewidth\":2},\"scene\":{\"xaxis\":{\"backgroundcolor\":\"#E5ECF6\",\"gridcolor\":\"white\",\"linecolor\":\"white\",\"showbackground\":true,\"ticks\":\"\",\"zerolinecolor\":\"white\",\"gridwidth\":2},\"yaxis\":{\"backgroundcolor\":\"#E5ECF6\",\"gridcolor\":\"white\",\"linecolor\":\"white\",\"showbackground\":true,\"ticks\":\"\",\"zerolinecolor\":\"white\",\"gridwidth\":2},\"zaxis\":{\"backgroundcolor\":\"#E5ECF6\",\"gridcolor\":\"white\",\"linecolor\":\"white\",\"showbackground\":true,\"ticks\":\"\",\"zerolinecolor\":\"white\",\"gridwidth\":2}},\"shapedefaults\":{\"line\":{\"color\":\"#2a3f5f\"}},\"annotationdefaults\":{\"arrowcolor\":\"#2a3f5f\",\"arrowhead\":0,\"arrowwidth\":1},\"geo\":{\"bgcolor\":\"white\",\"landcolor\":\"#E5ECF6\",\"subunitcolor\":\"white\",\"showland\":true,\"showlakes\":true,\"lakecolor\":\"white\"},\"title\":{\"x\":0.05},\"mapbox\":{\"style\":\"light\"}}},\"xaxis\":{\"anchor\":\"y\",\"domain\":[0.0,1.0],\"title\":{\"text\":\"No. overall\"}},\"yaxis\":{\"anchor\":\"x\",\"domain\":[0.0,1.0],\"title\":{\"text\":\"U.S. viewers (millions)\"}},\"legend\":{\"tracegroupgap\":0},\"margin\":{\"t\":60},\"barmode\":\"relative\"},                        {\"responsive\": true}                    ).then(function(){\n",
       "                            \n",
       "var gd = document.getElementById('cd3af396-f7ca-4f1f-bc99-cc928fb737f5');\n",
       "var x = new MutationObserver(function (mutations, observer) {{\n",
       "        var display = window.getComputedStyle(gd).display;\n",
       "        if (!display || display === 'none') {{\n",
       "            console.log([gd, 'removed!']);\n",
       "            Plotly.purge(gd);\n",
       "            observer.disconnect();\n",
       "        }}\n",
       "}});\n",
       "\n",
       "// Listen for the removal of the full notebook cells\n",
       "var notebookContainer = gd.closest('#notebook-container');\n",
       "if (notebookContainer) {{\n",
       "    x.observe(notebookContainer, {childList: true});\n",
       "}}\n",
       "\n",
       "// Listen for the clearing of the current output cell\n",
       "var outputEl = gd.closest('.output');\n",
       "if (outputEl) {{\n",
       "    x.observe(outputEl, {childList: true});\n",
       "}}\n",
       "\n",
       "                        })                };                });            </script>        </div>"
      ]
     },
     "metadata": {},
     "output_type": "display_data"
    }
   ],
   "source": [
    "go.bar(df,x='No. overall',y='U.S. viewers (millions)')"
   ]
  },
  {
   "cell_type": "code",
   "execution_count": 131,
   "id": "a2e25e94-24b6-4f56-ba3b-79c377bf26ff",
   "metadata": {},
   "outputs": [],
   "source": [
    "grouping=df.groupby('No. in season',as_index=False)['U.S. viewers (millions)'].mean()"
   ]
  },
  {
   "cell_type": "code",
   "execution_count": 132,
   "id": "5f17aa05-0e1f-4997-a93c-b019578fc2d8",
   "metadata": {},
   "outputs": [
    {
     "data": {
      "application/vnd.plotly.v1+json": {
       "config": {
        "plotlyServerURL": "https://plot.ly"
       },
       "data": [
        {
         "alignmentgroup": "True",
         "hovertemplate": "No. in season=%{x}<br>U.S. viewers (millions)=%{y}<extra></extra>",
         "legendgroup": "",
         "marker": {
          "color": "#636efa",
          "pattern": {
           "shape": ""
          }
         },
         "name": "",
         "offsetgroup": "",
         "orientation": "v",
         "showlegend": false,
         "textposition": "auto",
         "type": "bar",
         "x": [
          1,
          2,
          3,
          4,
          5,
          6,
          7,
          8,
          9,
          10
         ],
         "xaxis": "x",
         "y": [
          6.85375,
          6.26375,
          6.595,
          6.8075,
          7.0675,
          6.87125,
          6.1899999999999995,
          5.581666666666667,
          5.501666666666666,
          6.12
         ],
         "yaxis": "y"
        }
       ],
       "layout": {
        "autosize": true,
        "barmode": "relative",
        "legend": {
         "tracegroupgap": 0
        },
        "margin": {
         "t": 60
        },
        "template": {
         "data": {
          "bar": [
           {
            "error_x": {
             "color": "#2a3f5f"
            },
            "error_y": {
             "color": "#2a3f5f"
            },
            "marker": {
             "line": {
              "color": "#E5ECF6",
              "width": 0.5
             },
             "pattern": {
              "fillmode": "overlay",
              "size": 10,
              "solidity": 0.2
             }
            },
            "type": "bar"
           }
          ],
          "barpolar": [
           {
            "marker": {
             "line": {
              "color": "#E5ECF6",
              "width": 0.5
             },
             "pattern": {
              "fillmode": "overlay",
              "size": 10,
              "solidity": 0.2
             }
            },
            "type": "barpolar"
           }
          ],
          "carpet": [
           {
            "aaxis": {
             "endlinecolor": "#2a3f5f",
             "gridcolor": "white",
             "linecolor": "white",
             "minorgridcolor": "white",
             "startlinecolor": "#2a3f5f"
            },
            "baxis": {
             "endlinecolor": "#2a3f5f",
             "gridcolor": "white",
             "linecolor": "white",
             "minorgridcolor": "white",
             "startlinecolor": "#2a3f5f"
            },
            "type": "carpet"
           }
          ],
          "choropleth": [
           {
            "colorbar": {
             "outlinewidth": 0,
             "ticks": ""
            },
            "type": "choropleth"
           }
          ],
          "contour": [
           {
            "colorbar": {
             "outlinewidth": 0,
             "ticks": ""
            },
            "colorscale": [
             [
              0,
              "#0d0887"
             ],
             [
              0.1111111111111111,
              "#46039f"
             ],
             [
              0.2222222222222222,
              "#7201a8"
             ],
             [
              0.3333333333333333,
              "#9c179e"
             ],
             [
              0.4444444444444444,
              "#bd3786"
             ],
             [
              0.5555555555555556,
              "#d8576b"
             ],
             [
              0.6666666666666666,
              "#ed7953"
             ],
             [
              0.7777777777777778,
              "#fb9f3a"
             ],
             [
              0.8888888888888888,
              "#fdca26"
             ],
             [
              1,
              "#f0f921"
             ]
            ],
            "type": "contour"
           }
          ],
          "contourcarpet": [
           {
            "colorbar": {
             "outlinewidth": 0,
             "ticks": ""
            },
            "type": "contourcarpet"
           }
          ],
          "heatmap": [
           {
            "colorbar": {
             "outlinewidth": 0,
             "ticks": ""
            },
            "colorscale": [
             [
              0,
              "#0d0887"
             ],
             [
              0.1111111111111111,
              "#46039f"
             ],
             [
              0.2222222222222222,
              "#7201a8"
             ],
             [
              0.3333333333333333,
              "#9c179e"
             ],
             [
              0.4444444444444444,
              "#bd3786"
             ],
             [
              0.5555555555555556,
              "#d8576b"
             ],
             [
              0.6666666666666666,
              "#ed7953"
             ],
             [
              0.7777777777777778,
              "#fb9f3a"
             ],
             [
              0.8888888888888888,
              "#fdca26"
             ],
             [
              1,
              "#f0f921"
             ]
            ],
            "type": "heatmap"
           }
          ],
          "heatmapgl": [
           {
            "colorbar": {
             "outlinewidth": 0,
             "ticks": ""
            },
            "colorscale": [
             [
              0,
              "#0d0887"
             ],
             [
              0.1111111111111111,
              "#46039f"
             ],
             [
              0.2222222222222222,
              "#7201a8"
             ],
             [
              0.3333333333333333,
              "#9c179e"
             ],
             [
              0.4444444444444444,
              "#bd3786"
             ],
             [
              0.5555555555555556,
              "#d8576b"
             ],
             [
              0.6666666666666666,
              "#ed7953"
             ],
             [
              0.7777777777777778,
              "#fb9f3a"
             ],
             [
              0.8888888888888888,
              "#fdca26"
             ],
             [
              1,
              "#f0f921"
             ]
            ],
            "type": "heatmapgl"
           }
          ],
          "histogram": [
           {
            "marker": {
             "pattern": {
              "fillmode": "overlay",
              "size": 10,
              "solidity": 0.2
             }
            },
            "type": "histogram"
           }
          ],
          "histogram2d": [
           {
            "colorbar": {
             "outlinewidth": 0,
             "ticks": ""
            },
            "colorscale": [
             [
              0,
              "#0d0887"
             ],
             [
              0.1111111111111111,
              "#46039f"
             ],
             [
              0.2222222222222222,
              "#7201a8"
             ],
             [
              0.3333333333333333,
              "#9c179e"
             ],
             [
              0.4444444444444444,
              "#bd3786"
             ],
             [
              0.5555555555555556,
              "#d8576b"
             ],
             [
              0.6666666666666666,
              "#ed7953"
             ],
             [
              0.7777777777777778,
              "#fb9f3a"
             ],
             [
              0.8888888888888888,
              "#fdca26"
             ],
             [
              1,
              "#f0f921"
             ]
            ],
            "type": "histogram2d"
           }
          ],
          "histogram2dcontour": [
           {
            "colorbar": {
             "outlinewidth": 0,
             "ticks": ""
            },
            "colorscale": [
             [
              0,
              "#0d0887"
             ],
             [
              0.1111111111111111,
              "#46039f"
             ],
             [
              0.2222222222222222,
              "#7201a8"
             ],
             [
              0.3333333333333333,
              "#9c179e"
             ],
             [
              0.4444444444444444,
              "#bd3786"
             ],
             [
              0.5555555555555556,
              "#d8576b"
             ],
             [
              0.6666666666666666,
              "#ed7953"
             ],
             [
              0.7777777777777778,
              "#fb9f3a"
             ],
             [
              0.8888888888888888,
              "#fdca26"
             ],
             [
              1,
              "#f0f921"
             ]
            ],
            "type": "histogram2dcontour"
           }
          ],
          "mesh3d": [
           {
            "colorbar": {
             "outlinewidth": 0,
             "ticks": ""
            },
            "type": "mesh3d"
           }
          ],
          "parcoords": [
           {
            "line": {
             "colorbar": {
              "outlinewidth": 0,
              "ticks": ""
             }
            },
            "type": "parcoords"
           }
          ],
          "pie": [
           {
            "automargin": true,
            "type": "pie"
           }
          ],
          "scatter": [
           {
            "fillpattern": {
             "fillmode": "overlay",
             "size": 10,
             "solidity": 0.2
            },
            "type": "scatter"
           }
          ],
          "scatter3d": [
           {
            "line": {
             "colorbar": {
              "outlinewidth": 0,
              "ticks": ""
             }
            },
            "marker": {
             "colorbar": {
              "outlinewidth": 0,
              "ticks": ""
             }
            },
            "type": "scatter3d"
           }
          ],
          "scattercarpet": [
           {
            "marker": {
             "colorbar": {
              "outlinewidth": 0,
              "ticks": ""
             }
            },
            "type": "scattercarpet"
           }
          ],
          "scattergeo": [
           {
            "marker": {
             "colorbar": {
              "outlinewidth": 0,
              "ticks": ""
             }
            },
            "type": "scattergeo"
           }
          ],
          "scattergl": [
           {
            "marker": {
             "colorbar": {
              "outlinewidth": 0,
              "ticks": ""
             }
            },
            "type": "scattergl"
           }
          ],
          "scattermapbox": [
           {
            "marker": {
             "colorbar": {
              "outlinewidth": 0,
              "ticks": ""
             }
            },
            "type": "scattermapbox"
           }
          ],
          "scatterpolar": [
           {
            "marker": {
             "colorbar": {
              "outlinewidth": 0,
              "ticks": ""
             }
            },
            "type": "scatterpolar"
           }
          ],
          "scatterpolargl": [
           {
            "marker": {
             "colorbar": {
              "outlinewidth": 0,
              "ticks": ""
             }
            },
            "type": "scatterpolargl"
           }
          ],
          "scatterternary": [
           {
            "marker": {
             "colorbar": {
              "outlinewidth": 0,
              "ticks": ""
             }
            },
            "type": "scatterternary"
           }
          ],
          "surface": [
           {
            "colorbar": {
             "outlinewidth": 0,
             "ticks": ""
            },
            "colorscale": [
             [
              0,
              "#0d0887"
             ],
             [
              0.1111111111111111,
              "#46039f"
             ],
             [
              0.2222222222222222,
              "#7201a8"
             ],
             [
              0.3333333333333333,
              "#9c179e"
             ],
             [
              0.4444444444444444,
              "#bd3786"
             ],
             [
              0.5555555555555556,
              "#d8576b"
             ],
             [
              0.6666666666666666,
              "#ed7953"
             ],
             [
              0.7777777777777778,
              "#fb9f3a"
             ],
             [
              0.8888888888888888,
              "#fdca26"
             ],
             [
              1,
              "#f0f921"
             ]
            ],
            "type": "surface"
           }
          ],
          "table": [
           {
            "cells": {
             "fill": {
              "color": "#EBF0F8"
             },
             "line": {
              "color": "white"
             }
            },
            "header": {
             "fill": {
              "color": "#C8D4E3"
             },
             "line": {
              "color": "white"
             }
            },
            "type": "table"
           }
          ]
         },
         "layout": {
          "annotationdefaults": {
           "arrowcolor": "#2a3f5f",
           "arrowhead": 0,
           "arrowwidth": 1
          },
          "autotypenumbers": "strict",
          "coloraxis": {
           "colorbar": {
            "outlinewidth": 0,
            "ticks": ""
           }
          },
          "colorscale": {
           "diverging": [
            [
             0,
             "#8e0152"
            ],
            [
             0.1,
             "#c51b7d"
            ],
            [
             0.2,
             "#de77ae"
            ],
            [
             0.3,
             "#f1b6da"
            ],
            [
             0.4,
             "#fde0ef"
            ],
            [
             0.5,
             "#f7f7f7"
            ],
            [
             0.6,
             "#e6f5d0"
            ],
            [
             0.7,
             "#b8e186"
            ],
            [
             0.8,
             "#7fbc41"
            ],
            [
             0.9,
             "#4d9221"
            ],
            [
             1,
             "#276419"
            ]
           ],
           "sequential": [
            [
             0,
             "#0d0887"
            ],
            [
             0.1111111111111111,
             "#46039f"
            ],
            [
             0.2222222222222222,
             "#7201a8"
            ],
            [
             0.3333333333333333,
             "#9c179e"
            ],
            [
             0.4444444444444444,
             "#bd3786"
            ],
            [
             0.5555555555555556,
             "#d8576b"
            ],
            [
             0.6666666666666666,
             "#ed7953"
            ],
            [
             0.7777777777777778,
             "#fb9f3a"
            ],
            [
             0.8888888888888888,
             "#fdca26"
            ],
            [
             1,
             "#f0f921"
            ]
           ],
           "sequentialminus": [
            [
             0,
             "#0d0887"
            ],
            [
             0.1111111111111111,
             "#46039f"
            ],
            [
             0.2222222222222222,
             "#7201a8"
            ],
            [
             0.3333333333333333,
             "#9c179e"
            ],
            [
             0.4444444444444444,
             "#bd3786"
            ],
            [
             0.5555555555555556,
             "#d8576b"
            ],
            [
             0.6666666666666666,
             "#ed7953"
            ],
            [
             0.7777777777777778,
             "#fb9f3a"
            ],
            [
             0.8888888888888888,
             "#fdca26"
            ],
            [
             1,
             "#f0f921"
            ]
           ]
          },
          "colorway": [
           "#636efa",
           "#EF553B",
           "#00cc96",
           "#ab63fa",
           "#FFA15A",
           "#19d3f3",
           "#FF6692",
           "#B6E880",
           "#FF97FF",
           "#FECB52"
          ],
          "font": {
           "color": "#2a3f5f"
          },
          "geo": {
           "bgcolor": "white",
           "lakecolor": "white",
           "landcolor": "#E5ECF6",
           "showlakes": true,
           "showland": true,
           "subunitcolor": "white"
          },
          "hoverlabel": {
           "align": "left"
          },
          "hovermode": "closest",
          "mapbox": {
           "style": "light"
          },
          "paper_bgcolor": "white",
          "plot_bgcolor": "#E5ECF6",
          "polar": {
           "angularaxis": {
            "gridcolor": "white",
            "linecolor": "white",
            "ticks": ""
           },
           "bgcolor": "#E5ECF6",
           "radialaxis": {
            "gridcolor": "white",
            "linecolor": "white",
            "ticks": ""
           }
          },
          "scene": {
           "xaxis": {
            "backgroundcolor": "#E5ECF6",
            "gridcolor": "white",
            "gridwidth": 2,
            "linecolor": "white",
            "showbackground": true,
            "ticks": "",
            "zerolinecolor": "white"
           },
           "yaxis": {
            "backgroundcolor": "#E5ECF6",
            "gridcolor": "white",
            "gridwidth": 2,
            "linecolor": "white",
            "showbackground": true,
            "ticks": "",
            "zerolinecolor": "white"
           },
           "zaxis": {
            "backgroundcolor": "#E5ECF6",
            "gridcolor": "white",
            "gridwidth": 2,
            "linecolor": "white",
            "showbackground": true,
            "ticks": "",
            "zerolinecolor": "white"
           }
          },
          "shapedefaults": {
           "line": {
            "color": "#2a3f5f"
           }
          },
          "ternary": {
           "aaxis": {
            "gridcolor": "white",
            "linecolor": "white",
            "ticks": ""
           },
           "baxis": {
            "gridcolor": "white",
            "linecolor": "white",
            "ticks": ""
           },
           "bgcolor": "#E5ECF6",
           "caxis": {
            "gridcolor": "white",
            "linecolor": "white",
            "ticks": ""
           }
          },
          "title": {
           "x": 0.05
          },
          "xaxis": {
           "automargin": true,
           "gridcolor": "white",
           "linecolor": "white",
           "ticks": "",
           "title": {
            "standoff": 15
           },
           "zerolinecolor": "white",
           "zerolinewidth": 2
          },
          "yaxis": {
           "automargin": true,
           "gridcolor": "white",
           "linecolor": "white",
           "ticks": "",
           "title": {
            "standoff": 15
           },
           "zerolinecolor": "white",
           "zerolinewidth": 2
          }
         }
        },
        "xaxis": {
         "anchor": "y",
         "autorange": true,
         "domain": [
          0,
          1
         ],
         "range": [
          0.5,
          10.5
         ],
         "title": {
          "text": "No. in season"
         },
         "type": "linear"
        },
        "yaxis": {
         "anchor": "x",
         "autorange": true,
         "domain": [
          0,
          1
         ],
         "range": [
          0,
          7.439473684210526
         ],
         "title": {
          "text": "U.S. viewers (millions)"
         },
         "type": "linear"
        }
       }
      },
      "image/png": "[encoded data removed]",
      "text/html": [
       "<div>                            <div id=\"9217af6a-dc3b-4d12-ad58-6e3b9f97433e\" class=\"plotly-graph-div\" style=\"height:525px; width:100%;\"></div>            <script type=\"text/javascript\">                require([\"plotly\"], function(Plotly) {                    window.PLOTLYENV=window.PLOTLYENV || {};                                    if (document.getElementById(\"9217af6a-dc3b-4d12-ad58-6e3b9f97433e\")) {                    Plotly.newPlot(                        \"9217af6a-dc3b-4d12-ad58-6e3b9f97433e\",                        [{\"alignmentgroup\":\"True\",\"hovertemplate\":\"No. in season=%{x}<br>U.S. viewers (millions)=%{y}<extra></extra>\",\"legendgroup\":\"\",\"marker\":{\"color\":\"#636efa\",\"pattern\":{\"shape\":\"\"}},\"name\":\"\",\"offsetgroup\":\"\",\"orientation\":\"v\",\"showlegend\":false,\"textposition\":\"auto\",\"x\":[1,2,3,4,5,6,7,8,9,10],\"xaxis\":\"x\",\"y\":[6.85375,6.26375,6.595,6.8075,7.0675,6.87125,6.1899999999999995,5.581666666666667,5.501666666666666,6.12],\"yaxis\":\"y\",\"type\":\"bar\"}],                        {\"template\":{\"data\":{\"histogram2dcontour\":[{\"type\":\"histogram2dcontour\",\"colorbar\":{\"outlinewidth\":0,\"ticks\":\"\"},\"colorscale\":[[0.0,\"#0d0887\"],[0.1111111111111111,\"#46039f\"],[0.2222222222222222,\"#7201a8\"],[0.3333333333333333,\"#9c179e\"],[0.4444444444444444,\"#bd3786\"],[0.5555555555555556,\"#d8576b\"],[0.6666666666666666,\"#ed7953\"],[0.7777777777777778,\"#fb9f3a\"],[0.8888888888888888,\"#fdca26\"],[1.0,\"#f0f921\"]]}],\"choropleth\":[{\"type\":\"choropleth\",\"colorbar\":{\"outlinewidth\":0,\"ticks\":\"\"}}],\"histogram2d\":[{\"type\":\"histogram2d\",\"colorbar\":{\"outlinewidth\":0,\"ticks\":\"\"},\"colorscale\":[[0.0,\"#0d0887\"],[0.1111111111111111,\"#46039f\"],[0.2222222222222222,\"#7201a8\"],[0.3333333333333333,\"#9c179e\"],[0.4444444444444444,\"#bd3786\"],[0.5555555555555556,\"#d8576b\"],[0.6666666666666666,\"#ed7953\"],[0.7777777777777778,\"#fb9f3a\"],[0.8888888888888888,\"#fdca26\"],[1.0,\"#f0f921\"]]}],\"heatmap\":[{\"type\":\"heatmap\",\"colorbar\":{\"outlinewidth\":0,\"ticks\":\"\"},\"colorscale\":[[0.0,\"#0d0887\"],[0.1111111111111111,\"#46039f\"],[0.2222222222222222,\"#7201a8\"],[0.3333333333333333,\"#9c179e\"],[0.4444444444444444,\"#bd3786\"],[0.5555555555555556,\"#d8576b\"],[0.6666666666666666,\"#ed7953\"],[0.7777777777777778,\"#fb9f3a\"],[0.8888888888888888,\"#fdca26\"],[1.0,\"#f0f921\"]]}],\"heatmapgl\":[{\"type\":\"heatmapgl\",\"colorbar\":{\"outlinewidth\":0,\"ticks\":\"\"},\"colorscale\":[[0.0,\"#0d0887\"],[0.1111111111111111,\"#46039f\"],[0.2222222222222222,\"#7201a8\"],[0.3333333333333333,\"#9c179e\"],[0.4444444444444444,\"#bd3786\"],[0.5555555555555556,\"#d8576b\"],[0.6666666666666666,\"#ed7953\"],[0.7777777777777778,\"#fb9f3a\"],[0.8888888888888888,\"#fdca26\"],[1.0,\"#f0f921\"]]}],\"contourcarpet\":[{\"type\":\"contourcarpet\",\"colorbar\":{\"outlinewidth\":0,\"ticks\":\"\"}}],\"contour\":[{\"type\":\"contour\",\"colorbar\":{\"outlinewidth\":0,\"ticks\":\"\"},\"colorscale\":[[0.0,\"#0d0887\"],[0.1111111111111111,\"#46039f\"],[0.2222222222222222,\"#7201a8\"],[0.3333333333333333,\"#9c179e\"],[0.4444444444444444,\"#bd3786\"],[0.5555555555555556,\"#d8576b\"],[0.6666666666666666,\"#ed7953\"],[0.7777777777777778,\"#fb9f3a\"],[0.8888888888888888,\"#fdca26\"],[1.0,\"#f0f921\"]]}],\"surface\":[{\"type\":\"surface\",\"colorbar\":{\"outlinewidth\":0,\"ticks\":\"\"},\"colorscale\":[[0.0,\"#0d0887\"],[0.1111111111111111,\"#46039f\"],[0.2222222222222222,\"#7201a8\"],[0.3333333333333333,\"#9c179e\"],[0.4444444444444444,\"#bd3786\"],[0.5555555555555556,\"#d8576b\"],[0.6666666666666666,\"#ed7953\"],[0.7777777777777778,\"#fb9f3a\"],[0.8888888888888888,\"#fdca26\"],[1.0,\"#f0f921\"]]}],\"mesh3d\":[{\"type\":\"mesh3d\",\"colorbar\":{\"outlinewidth\":0,\"ticks\":\"\"}}],\"scatter\":[{\"fillpattern\":{\"fillmode\":\"overlay\",\"size\":10,\"solidity\":0.2},\"type\":\"scatter\"}],\"parcoords\":[{\"type\":\"parcoords\",\"line\":{\"colorbar\":{\"outlinewidth\":0,\"ticks\":\"\"}}}],\"scatterpolargl\":[{\"type\":\"scatterpolargl\",\"marker\":{\"colorbar\":{\"outlinewidth\":0,\"ticks\":\"\"}}}],\"bar\":[{\"error_x\":{\"color\":\"#2a3f5f\"},\"error_y\":{\"color\":\"#2a3f5f\"},\"marker\":{\"line\":{\"color\":\"#E5ECF6\",\"width\":0.5},\"pattern\":{\"fillmode\":\"overlay\",\"size\":10,\"solidity\":0.2}},\"type\":\"bar\"}],\"scattergeo\":[{\"type\":\"scattergeo\",\"marker\":{\"colorbar\":{\"outlinewidth\":0,\"ticks\":\"\"}}}],\"scatterpolar\":[{\"type\":\"scatterpolar\",\"marker\":{\"colorbar\":{\"outlinewidth\":0,\"ticks\":\"\"}}}],\"histogram\":[{\"marker\":{\"pattern\":{\"fillmode\":\"overlay\",\"size\":10,\"solidity\":0.2}},\"type\":\"histogram\"}],\"scattergl\":[{\"type\":\"scattergl\",\"marker\":{\"colorbar\":{\"outlinewidth\":0,\"ticks\":\"\"}}}],\"scatter3d\":[{\"type\":\"scatter3d\",\"line\":{\"colorbar\":{\"outlinewidth\":0,\"ticks\":\"\"}},\"marker\":{\"colorbar\":{\"outlinewidth\":0,\"ticks\":\"\"}}}],\"scattermapbox\":[{\"type\":\"scattermapbox\",\"marker\":{\"colorbar\":{\"outlinewidth\":0,\"ticks\":\"\"}}}],\"scatterternary\":[{\"type\":\"scatterternary\",\"marker\":{\"colorbar\":{\"outlinewidth\":0,\"ticks\":\"\"}}}],\"scattercarpet\":[{\"type\":\"scattercarpet\",\"marker\":{\"colorbar\":{\"outlinewidth\":0,\"ticks\":\"\"}}}],\"carpet\":[{\"aaxis\":{\"endlinecolor\":\"#2a3f5f\",\"gridcolor\":\"white\",\"linecolor\":\"white\",\"minorgridcolor\":\"white\",\"startlinecolor\":\"#2a3f5f\"},\"baxis\":{\"endlinecolor\":\"#2a3f5f\",\"gridcolor\":\"white\",\"linecolor\":\"white\",\"minorgridcolor\":\"white\",\"startlinecolor\":\"#2a3f5f\"},\"type\":\"carpet\"}],\"table\":[{\"cells\":{\"fill\":{\"color\":\"#EBF0F8\"},\"line\":{\"color\":\"white\"}},\"header\":{\"fill\":{\"color\":\"#C8D4E3\"},\"line\":{\"color\":\"white\"}},\"type\":\"table\"}],\"barpolar\":[{\"marker\":{\"line\":{\"color\":\"#E5ECF6\",\"width\":0.5},\"pattern\":{\"fillmode\":\"overlay\",\"size\":10,\"solidity\":0.2}},\"type\":\"barpolar\"}],\"pie\":[{\"automargin\":true,\"type\":\"pie\"}]},\"layout\":{\"autotypenumbers\":\"strict\",\"colorway\":[\"#636efa\",\"#EF553B\",\"#00cc96\",\"#ab63fa\",\"#FFA15A\",\"#19d3f3\",\"#FF6692\",\"#B6E880\",\"#FF97FF\",\"#FECB52\"],\"font\":{\"color\":\"#2a3f5f\"},\"hovermode\":\"closest\",\"hoverlabel\":{\"align\":\"left\"},\"paper_bgcolor\":\"white\",\"plot_bgcolor\":\"#E5ECF6\",\"polar\":{\"bgcolor\":\"#E5ECF6\",\"angularaxis\":{\"gridcolor\":\"white\",\"linecolor\":\"white\",\"ticks\":\"\"},\"radialaxis\":{\"gridcolor\":\"white\",\"linecolor\":\"white\",\"ticks\":\"\"}},\"ternary\":{\"bgcolor\":\"#E5ECF6\",\"aaxis\":{\"gridcolor\":\"white\",\"linecolor\":\"white\",\"ticks\":\"\"},\"baxis\":{\"gridcolor\":\"white\",\"linecolor\":\"white\",\"ticks\":\"\"},\"caxis\":{\"gridcolor\":\"white\",\"linecolor\":\"white\",\"ticks\":\"\"}},\"coloraxis\":{\"colorbar\":{\"outlinewidth\":0,\"ticks\":\"\"}},\"colorscale\":{\"sequential\":[[0.0,\"#0d0887\"],[0.1111111111111111,\"#46039f\"],[0.2222222222222222,\"#7201a8\"],[0.3333333333333333,\"#9c179e\"],[0.4444444444444444,\"#bd3786\"],[0.5555555555555556,\"#d8576b\"],[0.6666666666666666,\"#ed7953\"],[0.7777777777777778,\"#fb9f3a\"],[0.8888888888888888,\"#fdca26\"],[1.0,\"#f0f921\"]],\"sequentialminus\":[[0.0,\"#0d0887\"],[0.1111111111111111,\"#46039f\"],[0.2222222222222222,\"#7201a8\"],[0.3333333333333333,\"#9c179e\"],[0.4444444444444444,\"#bd3786\"],[0.5555555555555556,\"#d8576b\"],[0.6666666666666666,\"#ed7953\"],[0.7777777777777778,\"#fb9f3a\"],[0.8888888888888888,\"#fdca26\"],[1.0,\"#f0f921\"]],\"diverging\":[[0,\"#8e0152\"],[0.1,\"#c51b7d\"],[0.2,\"#de77ae\"],[0.3,\"#f1b6da\"],[0.4,\"#fde0ef\"],[0.5,\"#f7f7f7\"],[0.6,\"#e6f5d0\"],[0.7,\"#b8e186\"],[0.8,\"#7fbc41\"],[0.9,\"#4d9221\"],[1,\"#276419\"]]},\"xaxis\":{\"gridcolor\":\"white\",\"linecolor\":\"white\",\"ticks\":\"\",\"title\":{\"standoff\":15},\"zerolinecolor\":\"white\",\"automargin\":true,\"zerolinewidth\":2},\"yaxis\":{\"gridcolor\":\"white\",\"linecolor\":\"white\",\"ticks\":\"\",\"title\":{\"standoff\":15},\"zerolinecolor\":\"white\",\"automargin\":true,\"zerolinewidth\":2},\"scene\":{\"xaxis\":{\"backgroundcolor\":\"#E5ECF6\",\"gridcolor\":\"white\",\"linecolor\":\"white\",\"showbackground\":true,\"ticks\":\"\",\"zerolinecolor\":\"white\",\"gridwidth\":2},\"yaxis\":{\"backgroundcolor\":\"#E5ECF6\",\"gridcolor\":\"white\",\"linecolor\":\"white\",\"showbackground\":true,\"ticks\":\"\",\"zerolinecolor\":\"white\",\"gridwidth\":2},\"zaxis\":{\"backgroundcolor\":\"#E5ECF6\",\"gridcolor\":\"white\",\"linecolor\":\"white\",\"showbackground\":true,\"ticks\":\"\",\"zerolinecolor\":\"white\",\"gridwidth\":2}},\"shapedefaults\":{\"line\":{\"color\":\"#2a3f5f\"}},\"annotationdefaults\":{\"arrowcolor\":\"#2a3f5f\",\"arrowhead\":0,\"arrowwidth\":1},\"geo\":{\"bgcolor\":\"white\",\"landcolor\":\"#E5ECF6\",\"subunitcolor\":\"white\",\"showland\":true,\"showlakes\":true,\"lakecolor\":\"white\"},\"title\":{\"x\":0.05},\"mapbox\":{\"style\":\"light\"}}},\"xaxis\":{\"anchor\":\"y\",\"domain\":[0.0,1.0],\"title\":{\"text\":\"No. in season\"}},\"yaxis\":{\"anchor\":\"x\",\"domain\":[0.0,1.0],\"title\":{\"text\":\"U.S. viewers (millions)\"}},\"legend\":{\"tracegroupgap\":0},\"margin\":{\"t\":60},\"barmode\":\"relative\"},                        {\"responsive\": true}                    ).then(function(){\n",
       "                            \n",
       "var gd = document.getElementById('9217af6a-dc3b-4d12-ad58-6e3b9f97433e');\n",
       "var x = new MutationObserver(function (mutations, observer) {{\n",
       "        var display = window.getComputedStyle(gd).display;\n",
       "        if (!display || display === 'none') {{\n",
       "            console.log([gd, 'removed!']);\n",
       "            Plotly.purge(gd);\n",
       "            observer.disconnect();\n",
       "        }}\n",
       "}});\n",
       "\n",
       "// Listen for the removal of the full notebook cells\n",
       "var notebookContainer = gd.closest('#notebook-container');\n",
       "if (notebookContainer) {{\n",
       "    x.observe(notebookContainer, {childList: true});\n",
       "}}\n",
       "\n",
       "// Listen for the clearing of the current output cell\n",
       "var outputEl = gd.closest('.output');\n",
       "if (outputEl) {{\n",
       "    x.observe(outputEl, {childList: true});\n",
       "}}\n",
       "\n",
       "                        })                };                });            </script>        </div>"
      ]
     },
     "metadata": {},
     "output_type": "display_data"
    }
   ],
   "source": [
    "go.bar(grouping,x='No. in season',y='U.S. viewers (millions)')"
   ]
  },
  {
   "cell_type": "code",
   "execution_count": null,
   "id": "16fe7e0b-3285-4e16-bab3-3955d4b2d44b",
   "metadata": {},
   "outputs": [],
   "source": []
  }
 ],
 "metadata": {
  "kernelspec": {
   "display_name": "Python 3 (ipykernel)",
   "language": "python",
   "name": "python3"
  },
  "language_info": {
   "codemirror_mode": {
    "name": "ipython",
    "version": 3
   },
   "file_extension": ".py",
   "mimetype": "text/x-python",
   "name": "python",
   "nbconvert_exporter": "python",
   "pygments_lexer": "ipython3",
   "version": "3.11.7"
  }
 },
 "nbformat": 4,
 "nbformat_minor": 5
}
